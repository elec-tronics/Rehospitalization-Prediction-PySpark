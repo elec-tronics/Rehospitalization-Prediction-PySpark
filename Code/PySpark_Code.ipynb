{
  "cells": [
    {
      "cell_type": "code",
      "execution_count": null,
      "metadata": {
        "colab": {
          "base_uri": "https://localhost:8080/"
        },
        "id": "QvpyqjRTeBHM",
        "outputId": "168ce87e-0ccd-4fb1-ac18-607279197855"
      },
      "outputs": [
        {
          "output_type": "stream",
          "name": "stdout",
          "text": [
            "Mounted at /content/drive\n"
          ]
        }
      ],
      "source": [
        "from google.colab import drive\n",
        "drive.mount('/content/drive')"
      ]
    },
    {
      "cell_type": "code",
      "execution_count": null,
      "metadata": {
        "id": "gPjeRUmllBOg"
      },
      "outputs": [],
      "source": [
        "# install Java8\n",
        "!apt-get install openjdk-8-jdk-headless -qq > /dev/null"
      ]
    },
    {
      "cell_type": "code",
      "execution_count": null,
      "metadata": {
        "id": "cWSVCWHilGJT"
      },
      "outputs": [],
      "source": [
        "# download spark3.2.0\n",
        "!wget -q http://apache.osuosl.org/spark/spark-3.2.0/spark-3.2.0-bin-hadoop3.2.tgz"
      ]
    },
    {
      "cell_type": "code",
      "execution_count": null,
      "metadata": {
        "id": "tAM3cjnVndEb"
      },
      "outputs": [],
      "source": [
        "# unzip it\n",
        "!tar xf spark-3.2.0-bin-hadoop3.2.tgz\n"
      ]
    },
    {
      "cell_type": "code",
      "execution_count": null,
      "metadata": {
        "id": "sCf3XdcpoiHz"
      },
      "outputs": [],
      "source": [
        "# install findspark\n",
        "!pip install -q findspark"
      ]
    },
    {
      "cell_type": "code",
      "execution_count": null,
      "metadata": {
        "id": "1MOycJbBoxTA"
      },
      "outputs": [],
      "source": [
        "#Set Environment Variables\n",
        "import os\n",
        "os.environ[\"JAVA_HOME\"] = \"/usr/lib/jvm/java-8-openjdk-amd64\"\n",
        "os.environ[\"SPARK_HOME\"] = \"/content/spark-3.2.0-bin-hadoop3.2\""
      ]
    },
    {
      "cell_type": "code",
      "execution_count": null,
      "metadata": {
        "colab": {
          "base_uri": "https://localhost:8080/"
        },
        "id": "mXvmdnVIf4YW",
        "outputId": "abc7c49c-5d30-4d95-8506-3401c2f89f03"
      },
      "outputs": [
        {
          "output_type": "stream",
          "name": "stdout",
          "text": [
            "Requirement already satisfied: findspark in /usr/local/lib/python3.7/dist-packages (1.4.2)\n"
          ]
        }
      ],
      "source": [
        " !pip install findspark"
      ]
    },
    {
      "cell_type": "code",
      "execution_count": null,
      "metadata": {
        "id": "IWW_vjg4o36-"
      },
      "outputs": [],
      "source": [
        "#Quick Installation Test\n",
        "import findspark\n",
        "findspark.init()\n"
      ]
    },
    {
      "cell_type": "code",
      "execution_count": null,
      "metadata": {
        "colab": {
          "base_uri": "https://localhost:8080/"
        },
        "id": "2mO4eplko9xx",
        "outputId": "271bf345-7046-457d-afbe-3493919938b2"
      },
      "outputs": [
        {
          "output_type": "stream",
          "name": "stdout",
          "text": [
            "+-----+\n",
            "|hello|\n",
            "+-----+\n",
            "|world|\n",
            "|world|\n",
            "|world|\n",
            "+-----+\n",
            "only showing top 3 rows\n",
            "\n"
          ]
        }
      ],
      "source": [
        "#test\n",
        "from pyspark.sql import SparkSession\n",
        "spark = SparkSession.builder.master(\"local[*]\").getOrCreate()\n",
        "# Test the spark\n",
        "df = spark.createDataFrame([{\"hello\": \"world\"} for x in range(1000)])\n",
        "df.show(3, False)"
      ]
    },
    {
      "cell_type": "code",
      "execution_count": null,
      "metadata": {
        "colab": {
          "base_uri": "https://localhost:8080/"
        },
        "id": "FyzisVP9pP7I",
        "outputId": "1480fe3f-48c9-4784-f0c7-4f72bedbd062"
      },
      "outputs": [
        {
          "output_type": "stream",
          "name": "stdout",
          "text": [
            "3.2.0\n"
          ]
        }
      ],
      "source": [
        "# Check the pyspark version\n",
        "import pyspark\n",
        "print(pyspark.__version__)"
      ]
    },
    {
      "cell_type": "code",
      "execution_count": null,
      "metadata": {
        "colab": {
          "base_uri": "https://localhost:8080/",
          "height": 36
        },
        "id": "GUrsYDqbpWJh",
        "outputId": "e9cf9235-7576-4cb5-cfed-7944d70c5349"
      },
      "outputs": [
        {
          "output_type": "execute_result",
          "data": {
            "application/vnd.google.colaboratory.intrinsic+json": {
              "type": "string"
            },
            "text/plain": [
              "'/content/spark-3.2.0-bin-hadoop3.2'"
            ]
          },
          "metadata": {},
          "execution_count": 11
        }
      ],
      "source": [
        "#know the location where Spark is installed\n",
        "findspark.find()"
      ]
    },
    {
      "cell_type": "markdown",
      "metadata": {
        "id": "TUOvVY0YseJw"
      },
      "source": [
        "Loading data into PySpark"
      ]
    },
    {
      "cell_type": "code",
      "execution_count": null,
      "metadata": {
        "id": "1iUfDAXdp-0Y"
      },
      "outputs": [],
      "source": [
        "df = spark.read.csv(\"/content/drive/MyDrive/Colab Notebooks/dataset_diabetes/diabetic_data.csv\", header=True,  inferSchema=True)"
      ]
    },
    {
      "cell_type": "code",
      "execution_count": null,
      "metadata": {
        "colab": {
          "base_uri": "https://localhost:8080/"
        },
        "id": "4T4_8514qTGF",
        "outputId": "c9b50a3e-948e-4769-d897-9495e4f66f11"
      },
      "outputs": [
        {
          "output_type": "stream",
          "name": "stdout",
          "text": [
            "root\n",
            " |-- encounter_id: integer (nullable = true)\n",
            " |-- patient_nbr: integer (nullable = true)\n",
            " |-- race: string (nullable = true)\n",
            " |-- gender: string (nullable = true)\n",
            " |-- age: string (nullable = true)\n",
            " |-- weight: string (nullable = true)\n",
            " |-- admission_type_id: integer (nullable = true)\n",
            " |-- discharge_disposition_id: integer (nullable = true)\n",
            " |-- admission_source_id: integer (nullable = true)\n",
            " |-- time_in_hospital: integer (nullable = true)\n",
            " |-- payer_code: string (nullable = true)\n",
            " |-- medical_specialty: string (nullable = true)\n",
            " |-- num_lab_procedures: integer (nullable = true)\n",
            " |-- num_procedures: integer (nullable = true)\n",
            " |-- num_medications: integer (nullable = true)\n",
            " |-- number_outpatient: integer (nullable = true)\n",
            " |-- number_emergency: integer (nullable = true)\n",
            " |-- number_inpatient: integer (nullable = true)\n",
            " |-- diag_1: string (nullable = true)\n",
            " |-- diag_2: string (nullable = true)\n",
            " |-- diag_3: string (nullable = true)\n",
            " |-- number_diagnoses: integer (nullable = true)\n",
            " |-- max_glu_serum: string (nullable = true)\n",
            " |-- A1Cresult: string (nullable = true)\n",
            " |-- metformin: string (nullable = true)\n",
            " |-- repaglinide: string (nullable = true)\n",
            " |-- nateglinide: string (nullable = true)\n",
            " |-- chlorpropamide: string (nullable = true)\n",
            " |-- glimepiride: string (nullable = true)\n",
            " |-- acetohexamide: string (nullable = true)\n",
            " |-- glipizide: string (nullable = true)\n",
            " |-- glyburide: string (nullable = true)\n",
            " |-- tolbutamide: string (nullable = true)\n",
            " |-- pioglitazone: string (nullable = true)\n",
            " |-- rosiglitazone: string (nullable = true)\n",
            " |-- acarbose: string (nullable = true)\n",
            " |-- miglitol: string (nullable = true)\n",
            " |-- troglitazone: string (nullable = true)\n",
            " |-- tolazamide: string (nullable = true)\n",
            " |-- examide: string (nullable = true)\n",
            " |-- citoglipton: string (nullable = true)\n",
            " |-- insulin: string (nullable = true)\n",
            " |-- glyburide-metformin: string (nullable = true)\n",
            " |-- glipizide-metformin: string (nullable = true)\n",
            " |-- glimepiride-pioglitazone: string (nullable = true)\n",
            " |-- metformin-rosiglitazone: string (nullable = true)\n",
            " |-- metformin-pioglitazone: string (nullable = true)\n",
            " |-- change: string (nullable = true)\n",
            " |-- diabetesMed: string (nullable = true)\n",
            " |-- readmitted: string (nullable = true)\n",
            "\n"
          ]
        }
      ],
      "source": [
        "#Show column details\n",
        "df.printSchema()\n"
      ]
    },
    {
      "cell_type": "code",
      "execution_count": null,
      "metadata": {
        "id": "NrM8mra02BRO"
      },
      "outputs": [],
      "source": [
        "import numpy as np\n",
        "import pandas as pd\n",
        "import matplotlib.pyplot as plt\n",
        "import seaborn as sns\n",
        "from pyspark.sql.functions import isnan, when, count, col\n",
        "from pyspark.sql.functions import *\n",
        "from pyspark.sql import functions as fn\n",
        "from pyspark.ml import regression\n",
        "from pyspark.sql.functions import countDistinct\n",
        "from pyspark.sql import Row\n",
        "from pyspark import sql\n",
        "from pyspark.ml import feature, regression, evaluation, Pipeline\n",
        "from pyspark.ml.feature import StringIndexer\n",
        "from pyspark.ml import classification\n",
        "from pyspark.ml.evaluation import BinaryClassificationEvaluator,MulticlassClassificationEvaluator\n",
        "from pyspark.ml.tuning import CrossValidator, ParamGridBuilder\n",
        "import decimal\n",
        "from pyspark.sql.types import StructType\n",
        "from pyspark.sql.types import *\n",
        "from pyspark.ml.feature import StandardScaler\n",
        "from pyspark.ml.classification import LogisticRegression\n",
        "from pyspark.mllib.classification import LogisticRegressionWithLBFGS\n",
        "from pyspark.ml.tuning import CrossValidator, ParamGridBuilder\n",
        "from pyspark.ml.classification import GBTClassifier\n",
        "from pyspark.ml.evaluation import MulticlassClassificationEvaluator\n",
        "from sklearn.metrics import roc_curve, auc\n",
        "from pyspark.mllib.evaluation import BinaryClassificationMetrics\n",
        "from pyspark.mllib.util import MLUtils\n",
        "from pyspark.mllib.evaluation import MulticlassMetrics"
      ]
    },
    {
      "cell_type": "code",
      "execution_count": null,
      "metadata": {
        "colab": {
          "base_uri": "https://localhost:8080/"
        },
        "id": "9EGGvpdCkv2K",
        "outputId": "b4548f88-8395-4087-d996-e691d1aa9584"
      },
      "outputs": [
        {
          "output_type": "stream",
          "name": "stdout",
          "text": [
            "(101766, 50)\n"
          ]
        }
      ],
      "source": [
        "#shape of dataframe\n",
        "print((df.count(), len(df.columns)))"
      ]
    },
    {
      "cell_type": "markdown",
      "metadata": {
        "id": "bdUtkc3s6DlE"
      },
      "source": [
        "# **Data Cleaning and Pre-processing¶**"
      ]
    },
    {
      "cell_type": "code",
      "execution_count": null,
      "metadata": {
        "colab": {
          "base_uri": "https://localhost:8080/"
        },
        "id": "6sIrwq0R6Hho",
        "outputId": "524e4273-0cca-49b0-bd4b-c64c7662cc9a"
      },
      "outputs": [
        {
          "output_type": "stream",
          "name": "stdout",
          "text": [
            "+------------+-----------+----+------+---+------+-----------------+------------------------+-------------------+----------------+----------+-----------------+------------------+--------------+---------------+-----------------+----------------+----------------+------+------+------+----------------+-------------+---------+---------+-----------+-----------+--------------+-----------+-------------+---------+---------+-----------+------------+-------------+--------+--------+------------+----------+-------+-----------+-------+-------------------+-------------------+------------------------+-----------------------+----------------------+------+-----------+----------+\n",
            "|encounter_id|patient_nbr|race|gender|age|weight|admission_type_id|discharge_disposition_id|admission_source_id|time_in_hospital|payer_code|medical_specialty|num_lab_procedures|num_procedures|num_medications|number_outpatient|number_emergency|number_inpatient|diag_1|diag_2|diag_3|number_diagnoses|max_glu_serum|A1Cresult|metformin|repaglinide|nateglinide|chlorpropamide|glimepiride|acetohexamide|glipizide|glyburide|tolbutamide|pioglitazone|rosiglitazone|acarbose|miglitol|troglitazone|tolazamide|examide|citoglipton|insulin|glyburide-metformin|glipizide-metformin|glimepiride-pioglitazone|metformin-rosiglitazone|metformin-pioglitazone|change|diabetesMed|readmitted|\n",
            "+------------+-----------+----+------+---+------+-----------------+------------------------+-------------------+----------------+----------+-----------------+------------------+--------------+---------------+-----------------+----------------+----------------+------+------+------+----------------+-------------+---------+---------+-----------+-----------+--------------+-----------+-------------+---------+---------+-----------+------------+-------------+--------+--------+------------+----------+-------+-----------+-------+-------------------+-------------------+------------------------+-----------------------+----------------------+------+-----------+----------+\n",
            "|           0|          0|   0|     0|  0|     0|                0|                       0|                  0|               0|         0|                0|                 0|             0|              0|                0|               0|               0|     0|     0|     0|               0|            0|        0|        0|          0|          0|             0|          0|            0|        0|        0|          0|           0|            0|       0|       0|           0|         0|      0|          0|      0|                  0|                  0|                       0|                      0|                     0|     0|          0|         0|\n",
            "+------------+-----------+----+------+---+------+-----------------+------------------------+-------------------+----------------+----------+-----------------+------------------+--------------+---------------+-----------------+----------------+----------------+------+------+------+----------------+-------------+---------+---------+-----------+-----------+--------------+-----------+-------------+---------+---------+-----------+------------+-------------+--------+--------+------------+----------+-------+-----------+-------+-------------------+-------------------+------------------------+-----------------------+----------------------+------+-----------+----------+\n",
            "\n"
          ]
        }
      ],
      "source": [
        "# Getting count of missing values\n",
        "df.select([count(when(isnan(c), c)).alias(c) for c in df.columns]).show()"
      ]
    },
    {
      "cell_type": "code",
      "execution_count": null,
      "metadata": {
        "colab": {
          "base_uri": "https://localhost:8080/"
        },
        "id": "cv28S9Pg6c-P",
        "outputId": "2ccb672a-888c-42e7-ff3f-87acf371a23e"
      },
      "outputs": [
        {
          "output_type": "stream",
          "name": "stdout",
          "text": [
            "+------------+-----------+----+------+---+------+-----------------+------------------------+-------------------+----------------+----------+-----------------+------------------+--------------+---------------+-----------------+----------------+----------------+------+------+------+----------------+-------------+---------+---------+-----------+-----------+--------------+-----------+-------------+---------+---------+-----------+------------+-------------+--------+--------+------------+----------+-------+-----------+-------+-------------------+-------------------+------------------------+-----------------------+----------------------+------+-----------+----------+\n",
            "|encounter_id|patient_nbr|race|gender|age|weight|admission_type_id|discharge_disposition_id|admission_source_id|time_in_hospital|payer_code|medical_specialty|num_lab_procedures|num_procedures|num_medications|number_outpatient|number_emergency|number_inpatient|diag_1|diag_2|diag_3|number_diagnoses|max_glu_serum|A1Cresult|metformin|repaglinide|nateglinide|chlorpropamide|glimepiride|acetohexamide|glipizide|glyburide|tolbutamide|pioglitazone|rosiglitazone|acarbose|miglitol|troglitazone|tolazamide|examide|citoglipton|insulin|glyburide-metformin|glipizide-metformin|glimepiride-pioglitazone|metformin-rosiglitazone|metformin-pioglitazone|change|diabetesMed|readmitted|\n",
            "+------------+-----------+----+------+---+------+-----------------+------------------------+-------------------+----------------+----------+-----------------+------------------+--------------+---------------+-----------------+----------------+----------------+------+------+------+----------------+-------------+---------+---------+-----------+-----------+--------------+-----------+-------------+---------+---------+-----------+------------+-------------+--------+--------+------------+----------+-------+-----------+-------+-------------------+-------------------+------------------------+-----------------------+----------------------+------+-----------+----------+\n",
            "|           0|          0|   0|     0|  0|     0|                0|                       0|                  0|               0|         0|                0|                 0|             0|              0|                0|               0|               0|     0|     0|     0|               0|            0|        0|        0|          0|          0|             0|          0|            0|        0|        0|          0|           0|            0|       0|       0|           0|         0|      0|          0|      0|                  0|                  0|                       0|                      0|                     0|     0|          0|         0|\n",
            "+------------+-----------+----+------+---+------+-----------------+------------------------+-------------------+----------------+----------+-----------------+------------------+--------------+---------------+-----------------+----------------+----------------+------+------+------+----------------+-------------+---------+---------+-----------+-----------+--------------+-----------+-------------+---------+---------+-----------+------------+-------------+--------+--------+------------+----------+-------+-----------+-------+-------------------+-------------------+------------------------+-----------------------+----------------------+------+-----------+----------+\n",
            "\n"
          ]
        }
      ],
      "source": [
        "# Getting count of null values\n",
        "df.select([count(when(col(c).isNull(), c)).alias(c) for c in df.columns]).show() # weight, payer_code, medical_speciality, 'citoglipton'?,'examide'?"
      ]
    },
    {
      "cell_type": "code",
      "execution_count": null,
      "metadata": {
        "id": "aTVcBolX6h9K"
      },
      "outputs": [],
      "source": [
        "# Dropping columns with large no of null values\n",
        "drop_cols = ['weight', 'payer_code','medical_specialty']\n",
        "df = df.select([column for column in df.columns if column not in drop_cols])"
      ]
    },
    {
      "cell_type": "code",
      "execution_count": null,
      "metadata": {
        "colab": {
          "base_uri": "https://localhost:8080/",
          "height": 53
        },
        "id": "DNWU5S2N6nGy",
        "outputId": "b3958d2b-49e6-4939-bc95-2f866ea10b87"
      },
      "outputs": [
        {
          "output_type": "display_data",
          "data": {
            "text/plain": [
              "DataFrame[encounter_id: int, patient_nbr: int, race: string, gender: string, age: string, admission_type_id: int, discharge_disposition_id: int, admission_source_id: int, time_in_hospital: int, num_lab_procedures: int, num_procedures: int, num_medications: int, number_outpatient: int, number_emergency: int, number_inpatient: int, diag_1: string, diag_2: string, diag_3: string, number_diagnoses: int, max_glu_serum: string, A1Cresult: string, metformin: string, repaglinide: string, nateglinide: string, chlorpropamide: string, glimepiride: string, acetohexamide: string, glipizide: string, glyburide: string, tolbutamide: string, pioglitazone: string, rosiglitazone: string, acarbose: string, miglitol: string, troglitazone: string, tolazamide: string, examide: string, citoglipton: string, insulin: string, glyburide-metformin: string, glipizide-metformin: string, glimepiride-pioglitazone: string, metformin-rosiglitazone: string, metformin-pioglitazone: string, change: string, diabetesMed: string, readmitted: string]"
            ]
          },
          "metadata": {}
        }
      ],
      "source": [
        "display(df)"
      ]
    },
    {
      "cell_type": "code",
      "execution_count": null,
      "metadata": {
        "colab": {
          "base_uri": "https://localhost:8080/"
        },
        "id": "DDU7ngV46q7U",
        "outputId": "5d819adc-76a0-4cce-f35e-567057a9e88c"
      },
      "outputs": [
        {
          "output_type": "stream",
          "name": "stdout",
          "text": [
            "+-----------+-----+\n",
            "|patient_nbr|count|\n",
            "+-----------+-----+\n",
            "|    2038905|    1|\n",
            "|    6550191|    2|\n",
            "|     300825|    3|\n",
            "|    2766582|    1|\n",
            "|   12254760|    2|\n",
            "|    9469107|    1|\n",
            "|    1655793|    1|\n",
            "|   89036955|    1|\n",
            "|   56526786|    1|\n",
            "|    4188339|    1|\n",
            "|   56039544|    1|\n",
            "|   15019425|    1|\n",
            "|     439650|    1|\n",
            "|   17963541|    1|\n",
            "|   17880444|    1|\n",
            "|   25287138|    1|\n",
            "|    9375993|    1|\n",
            "|   23822199|    1|\n",
            "|    1839672|    1|\n",
            "|     806337|    1|\n",
            "+-----------+-----+\n",
            "only showing top 20 rows\n",
            "\n"
          ]
        }
      ],
      "source": [
        "# check for duplicates in the dataset\n",
        "patient_num_count = df.select('patient_nbr').groupBy('patient_nbr').count().show()"
      ]
    },
    {
      "cell_type": "code",
      "execution_count": null,
      "metadata": {
        "colab": {
          "base_uri": "https://localhost:8080/"
        },
        "id": "vwCfTIcX6uOh",
        "outputId": "0f600e88-1a56-4382-b6ae-7433e3e23669"
      },
      "outputs": [
        {
          "output_type": "stream",
          "name": "stdout",
          "text": [
            "+-----------+-----+\n",
            "|patient_nbr|count|\n",
            "+-----------+-----+\n",
            "|    2038905|    1|\n",
            "|    6550191|    1|\n",
            "|     300825|    1|\n",
            "|    2766582|    1|\n",
            "|   12254760|    1|\n",
            "|    9469107|    1|\n",
            "|    1655793|    1|\n",
            "|   89036955|    1|\n",
            "|   56526786|    1|\n",
            "|    4188339|    1|\n",
            "|   56039544|    1|\n",
            "|   15019425|    1|\n",
            "|     439650|    1|\n",
            "|   17963541|    1|\n",
            "|   17880444|    1|\n",
            "|   25287138|    1|\n",
            "|    9375993|    1|\n",
            "|   23822199|    1|\n",
            "|    1839672|    1|\n",
            "|     806337|    1|\n",
            "+-----------+-----+\n",
            "only showing top 20 rows\n",
            "\n"
          ]
        }
      ],
      "source": [
        "# We can see that there are duplicates in the dataset, so we need to drop them\n",
        "df1=df.dropDuplicates(['patient_nbr'])\n",
        "df1.select('patient_nbr').groupBy('patient_nbr').count().show() # df1 is the new dataframe after dropping duplicates"
      ]
    },
    {
      "cell_type": "code",
      "execution_count": null,
      "metadata": {
        "colab": {
          "base_uri": "https://localhost:8080/"
        },
        "id": "8YUuI89Xl2gs",
        "outputId": "9735cce1-3bf9-4ba1-9bf0-1b9f31c6f1cb"
      },
      "outputs": [
        {
          "output_type": "stream",
          "name": "stdout",
          "text": [
            "+------------------------+-----+\n",
            "|discharge_disposition_id|count|\n",
            "+------------------------+-----+\n",
            "|                      28|   90|\n",
            "|                      27|    3|\n",
            "|                      12|    2|\n",
            "|                      22| 1410|\n",
            "|                       1|44317|\n",
            "|                      13|  243|\n",
            "|                       6| 8289|\n",
            "|                      16|    3|\n",
            "|                       3| 8784|\n",
            "|                      20|    1|\n",
            "|                       5|  913|\n",
            "|                      19|    6|\n",
            "|                      15|   40|\n",
            "|                       9|    9|\n",
            "|                      17|    8|\n",
            "|                       4|  541|\n",
            "|                       8|   73|\n",
            "|                      23|  260|\n",
            "|                       7|  409|\n",
            "|                      10|    6|\n",
            "+------------------------+-----+\n",
            "only showing top 20 rows\n",
            "\n"
          ]
        }
      ],
      "source": [
        "# getting count of discharge disposition vars\n",
        "df1.select('discharge_disposition_id').groupBy('discharge_disposition_id').count().show()"
      ]
    },
    {
      "cell_type": "code",
      "execution_count": null,
      "metadata": {
        "id": "6DuoqE7Tl7j5"
      },
      "outputs": [],
      "source": [
        "# Removing rows from Race,diag_1, diag_2, diag_3\n",
        "df1 = df1.filter(df1.race!='?')\n",
        "df1 = df1.filter(df1.diag_1!='?')\n",
        "df1 = df1.filter(df1.diag_2!='?')\n",
        "df1 = df1.filter(df1.diag_3!='?')"
      ]
    },
    {
      "cell_type": "code",
      "execution_count": null,
      "metadata": {
        "colab": {
          "base_uri": "https://localhost:8080/"
        },
        "id": "YNJf_HArl91o",
        "outputId": "30bf8754-5eeb-4fff-a158-bf6c6cf12928"
      },
      "outputs": [
        {
          "output_type": "stream",
          "name": "stdout",
          "text": [
            "(68358, 47)\n"
          ]
        }
      ],
      "source": [
        "#dataframe shape\n",
        "print((df1.count(), len(df1.columns)))"
      ]
    },
    {
      "cell_type": "code",
      "execution_count": null,
      "metadata": {
        "id": "d7NR-N_amOXL"
      },
      "outputs": [],
      "source": [
        "# samples with values 11,13,14,18,19,20,21,25,26 in discharge_disposition_id have to be removed by seeing in IDs_mapping file. Also see if inplace=true condition can be given.\n",
        "df1=df1.filter((df1.discharge_disposition_id!=11) | (df1.discharge_disposition_id!=13) | (df1.discharge_disposition_id!=14) |(df1.discharge_disposition_id!=18)| (df1.discharge_disposition_id!=19) | (df1.discharge_disposition_id!=20) |(df1.discharge_disposition_id!=21)|(df1.discharge_disposition_id!=25)\n",
        "|(df1.discharge_disposition_id!=26))"
      ]
    },
    {
      "cell_type": "code",
      "execution_count": null,
      "metadata": {
        "colab": {
          "base_uri": "https://localhost:8080/"
        },
        "id": "n_SGEQzUmWmg",
        "outputId": "8f65f056-7fbc-4c34-b547-cc49603f10a3"
      },
      "outputs": [
        {
          "output_type": "stream",
          "name": "stdout",
          "text": [
            "+------------------------+-----+\n",
            "|discharge_disposition_id|count|\n",
            "+------------------------+-----+\n",
            "|                      28|   89|\n",
            "|                      27|    3|\n",
            "|                      12|    2|\n",
            "|                      22| 1393|\n",
            "|                       1|42045|\n",
            "|                      13|  242|\n",
            "|                       6| 8053|\n",
            "|                      16|    3|\n",
            "|                       3| 8481|\n",
            "|                      20|    1|\n",
            "|                       5|  863|\n",
            "|                      19|    6|\n",
            "|                      15|   40|\n",
            "|                      17|    8|\n",
            "|                       9|    9|\n",
            "|                       4|  492|\n",
            "|                       8|   71|\n",
            "|                      23|  253|\n",
            "|                       7|  384|\n",
            "|                      10|    6|\n",
            "+------------------------+-----+\n",
            "only showing top 20 rows\n",
            "\n"
          ]
        }
      ],
      "source": [
        "df1.select('discharge_disposition_id').groupBy('discharge_disposition_id').count().show() # new dataframe df2 with discharge_disposition_id values 11,13,14,18, 19,20,21,25,26 dropped"
      ]
    },
    {
      "cell_type": "code",
      "execution_count": null,
      "metadata": {
        "id": "73XAs6Tnma46"
      },
      "outputs": [],
      "source": [
        "# same for admission_id\n",
        "df1=df1.filter((df1.admission_type_id!=5) | (df1.admission_type_id!=6) | (df1.admission_type_id!=8))"
      ]
    },
    {
      "cell_type": "code",
      "execution_count": null,
      "metadata": {
        "colab": {
          "base_uri": "https://localhost:8080/"
        },
        "id": "4e815k-dmmrc",
        "outputId": "656d994c-d4c5-4264-a563-1ff90ccdfa22"
      },
      "outputs": [
        {
          "output_type": "stream",
          "name": "stdout",
          "text": [
            "+-----------------+-----+\n",
            "|admission_type_id|count|\n",
            "+-----------------+-----+\n",
            "|                1|35000|\n",
            "|                6| 4436|\n",
            "|                3|13338|\n",
            "|                5| 3061|\n",
            "|                4|    9|\n",
            "|                8|  283|\n",
            "|                7|   20|\n",
            "|                2|12211|\n",
            "+-----------------+-----+\n",
            "\n"
          ]
        }
      ],
      "source": [
        "df1.select('admission_type_id').groupBy('admission_type_id').count().show() # new dataframe df2 with admission_type_id values 5,6,8 dropped"
      ]
    },
    {
      "cell_type": "code",
      "execution_count": null,
      "metadata": {
        "id": "HXDI9TeVmew8"
      },
      "outputs": [],
      "source": [
        "# admission_source_id for 8,9,15,17,20,21,26\n",
        "df1=df1.filter((df1.admission_source_id!=8) | (df1.admission_source_id!=9) | (df1.admission_source_id!=15) | (df1.admission_source_id!=17) | (df1.admission_source_id!=20)\n",
        "| (df1.admission_source_id!=21) | (df1.admission_source_id!=26))"
      ]
    },
    {
      "cell_type": "code",
      "execution_count": null,
      "metadata": {
        "colab": {
          "base_uri": "https://localhost:8080/"
        },
        "id": "lryJNlI3mqiy",
        "outputId": "32aa9f32-d78f-4522-d3d5-df39bf33a417"
      },
      "outputs": [
        {
          "output_type": "stream",
          "name": "stdout",
          "text": [
            "+-------------------+-----+\n",
            "|admission_source_id|count|\n",
            "+-------------------+-----+\n",
            "|                 22|    4|\n",
            "|                  1|20947|\n",
            "|                  6| 1486|\n",
            "|                  3|  131|\n",
            "|                 20|  154|\n",
            "|                  5|  536|\n",
            "|                 17| 4786|\n",
            "|                  9|   36|\n",
            "|                  4| 2373|\n",
            "|                  8|   11|\n",
            "|                  7|37023|\n",
            "|                 10|    6|\n",
            "|                 25|    2|\n",
            "|                  2|  859|\n",
            "|                 13|    1|\n",
            "|                 11|    1|\n",
            "|                 14|    2|\n",
            "+-------------------+-----+\n",
            "\n"
          ]
        }
      ],
      "source": [
        "df1.select('admission_source_id').groupBy('admission_source_id').count().show() # new dataframe df2 with admission_source_id values 8,9,15,17,20,21,26 dropped"
      ]
    },
    {
      "cell_type": "code",
      "execution_count": null,
      "metadata": {
        "colab": {
          "base_uri": "https://localhost:8080/"
        },
        "id": "XsfSZv36muAx",
        "outputId": "fe4bf85b-ed62-4cb3-b155-9a02a97ac18d"
      },
      "outputs": [
        {
          "output_type": "stream",
          "name": "stdout",
          "text": [
            "+------------+-----------+---------------+------+-------+-----------------+------------------------+-------------------+----------------+------------------+--------------+---------------+-----------------+----------------+----------------+------+------+------+----------------+-------------+---------+---------+-----------+-----------+--------------+-----------+-------------+---------+---------+-----------+------------+-------------+--------+--------+------------+----------+-------+-----------+-------+-------------------+-------------------+------------------------+-----------------------+----------------------+------+-----------+----------+\n",
            "|encounter_id|patient_nbr|           race|gender|    age|admission_type_id|discharge_disposition_id|admission_source_id|time_in_hospital|num_lab_procedures|num_procedures|num_medications|number_outpatient|number_emergency|number_inpatient|diag_1|diag_2|diag_3|number_diagnoses|max_glu_serum|A1Cresult|metformin|repaglinide|nateglinide|chlorpropamide|glimepiride|acetohexamide|glipizide|glyburide|tolbutamide|pioglitazone|rosiglitazone|acarbose|miglitol|troglitazone|tolazamide|examide|citoglipton|insulin|glyburide-metformin|glipizide-metformin|glimepiride-pioglitazone|metformin-rosiglitazone|metformin-pioglitazone|change|diabetesMed|readmitted|\n",
            "+------------+-----------+---------------+------+-------+-----------------+------------------------+-------------------+----------------+------------------+--------------+---------------+-----------------+----------------+----------------+------+------+------+----------------+-------------+---------+---------+-----------+-----------+--------------+-----------+-------------+---------+---------+-----------+------------+-------------+--------+--------+------------+----------+-------+-----------+-------+-------------------+-------------------+------------------------+-----------------------+----------------------+------+-----------+----------+\n",
            "|   189899286|        729|      Caucasian|Female|[80-90)|                1|                       3|                  7|               4|                68|             2|             23|                0|               0|               0|   820|   493|  E880|               9|         None|       >7|   Steady|         No|         No|            No|         No|           No|       No|       No|         No|          No|           No|      No|      No|          No|        No|     No|         No|     No|                 No|                 No|                      No|                     No|                    No|    No|        Yes|        NO|\n",
            "|    64331490|        774|      Caucasian|Female|[80-90)|                1|                       1|                  7|               3|                46|             0|             20|                0|               0|               0|   274|   427|   416|               9|         None|       >8|   Steady|         No|         No|            No|         No|           No|       No|   Steady|         No|          No|           No|      No|      No|          No|        No|     No|         No|     No|                 No|                 No|                      No|                     No|                    No|    Ch|        Yes|        NO|\n",
            "|    60254142|       1314|      Caucasian|Female|[40-50)|                2|                       1|                  1|               2|                50|             5|             13|                0|               0|               0|   996|   411|   401|               9|         None|     None|       No|         No|         No|            No|         No|           No|       No|       No|         No|          No|           No|      No|      No|          No|        No|     No|         No| Steady|                 No|                 No|                      No|                     No|                    No|    No|        Yes|       >30|\n",
            "|    14897280|       2025|      Caucasian|Female|[70-80)|                2|                       3|                  1|              12|                47|             2|             18|                0|               0|               0|   682|   707|   560|               9|         None|     Norm|       No|         No|         No|            No|       Down|           No|       No|       No|         No|          No|           No|      No|      No|          No|        No|     No|         No| Steady|                 No|                 No|                      No|                     No|                    No|    Ch|        Yes|        NO|\n",
            "|    36469686|       3069|      Caucasian|  Male|[60-70)|                2|                       1|                  1|               8|                57|             6|             31|                0|               0|               0|   414|   584|   285|               9|         None|       >8|       No|         No|         No|            No|         No|           No|       No|       No|         No|          No|           No|      No|      No|          No|        No|     No|         No| Steady|                 No|                 No|                      No|                     No|                    No|    No|        Yes|        NO|\n",
            "|     7981038|       5220|      Caucasian|  Male|[60-70)|                1|                       1|                  7|               2|                15|             0|             14|                0|               0|               0|   276|   426|   558|               9|         None|     None|       No|         No|         No|            No|         No|           No|       No|       No|         No|          No|           No|      No|      No|          No|        No|     No|         No| Steady|                 No|                 No|                      No|                     No|                    No|    No|        Yes|       >30|\n",
            "|    12979032|       5337|      Caucasian|  Male|[70-80)|                3|                       5|                  1|               7|                27|             3|             16|                0|               0|               0|   434|   342|   250|               9|         None|       >8|       No|         No|         No|            No|         No|           No|       Up|   Steady|         No|          No|           No|      Up|      No|          No|        No|     No|         No| Steady|                 No|                 No|                      No|                     No|                    No|    Ch|        Yes|       >30|\n",
            "|    33994464|       6939|      Caucasian|  Male|[70-80)|                3|                       1|                  1|               6|                65|             2|             19|                0|               0|               0|   424|   997|   788|               7|         None|     None|   Steady|         No|         No|            No|         No|           No|       No|       No|         No|          No|           No|      No|      No|          No|        No|     No|         No|     No|                 No|                 No|                      No|                     No|                    No|    No|        Yes|        NO|\n",
            "|    13010370|       7128|      Caucasian|Female|[80-90)|                1|                       1|                  7|               4|                51|             3|             13|                0|               0|               0|   427|   414|   401|               6|         None|     None|       No|         No|         No|            No|         No|           No|       No|       No|         No|          No|           No|      No|      No|          No|        No|     No|         No|     No|                 No|                 No|                      No|                     No|                    No|    No|         No|        NO|\n",
            "|    74858976|       8208|      Caucasian|  Male|[60-70)|                1|                       1|                  7|               1|                59|             0|             12|                0|               0|               0|   486|   786|   285|               6|         None|     None|   Steady|         No|         No|            No|         No|           No|       No|   Steady|         No|      Steady|           No|      No|      No|          No|        No|     No|         No| Steady|                 No|                 No|                      No|                     No|                    No|    Ch|        Yes|        NO|\n",
            "|    20602470|       8460|      Caucasian|  Male|[80-90)|                2|                       1|                  1|               2|                38|             0|              8|                0|               0|               0|   428|   427|   412|               7|         None|     None|       No|     Steady|         No|            No|         No|           No|       No|       No|         No|          No|           No|      No|      No|          No|        No|     No|         No|     No|                 No|                 No|                      No|                     No|                    No|    No|        Yes|        NO|\n",
            "|   111768030|      10377|      Caucasian|  Male|[70-80)|                2|                       1|                  1|               1|                33|             2|             12|                0|               0|               0|   600|   599|   496|               5|         None|     None|       No|         No|         No|            No|         No|           No|       No|       No|         No|          No|           No|      No|      No|          No|        No|     No|         No| Steady|                 No|                 No|                      No|                     No|                    No|    No|        Yes|        NO|\n",
            "|    24694980|      10422|AfricanAmerican|Female|[70-80)|                3|                       1|                  1|               4|                54|             2|              3|                0|               0|               0|   599|   276|   401|               8|         None|     None|       No|         No|         No|            No|         No|           No|       No|       No|         No|          No|           No|      No|      No|          No|        No|     No|         No|     No|                 No|                 No|                      No|                     No|                    No|    No|         No|        NO|\n",
            "|     3247932|      12447|      Caucasian|Female|[70-80)|                6|                      25|                  7|               7|                70|             2|             20|                0|               0|               0|   486|   428|   427|               9|         None|     None|       No|         No|         No|            No|         No|           No|       No|       No|         No|          No|       Steady|      No|      No|          No|        No|     No|         No| Steady|                 No|                 No|                      No|                     No|                    No|    Ch|        Yes|       >30|\n",
            "|    56444490|      13122|AfricanAmerican|  Male|[50-60)|                3|                       1|                  1|               3|                48|             2|             22|                0|               0|               0|   996|   V42|250.01|               9|         None|     None|       No|         No|         No|            No|         No|           No|       No|       No|         No|          No|           No|      No|      No|          No|        No|     No|         No|     No|                 No|                 No|                      No|                     No|                    No|    No|         No|        NO|\n",
            "|     5289846|      13320|      Caucasian|  Male|[70-80)|                2|                       1|                  7|               1|                58|             0|              8|                0|               0|               0|   276|   787|   414|               7|         None|     None|       No|         No|         No|            No|         No|           No|   Steady|       No|         No|          No|           No|      No|      No|          No|        No|     No|         No| Steady|                 No|                 No|                      No|                     No|                    No|    Ch|        Yes|        NO|\n",
            "|    26331546|      13707|      Caucasian|  Male|[80-90)|                1|                       1|                  7|               3|                35|             0|             10|                0|               0|               0|   428|   571|   403|               8|         None|     None|       No|         No|         No|            No|         No|           No|       No|       No|         No|          No|           No|      No|      No|          No|        No|     No|         No|     No|                 No|                 No|                      No|                     No|                    No|    No|         No|        NO|\n",
            "|    89108670|      14499|      Caucasian|  Male|[80-90)|                1|                       1|                  6|               7|                78|             0|             16|                0|               0|               0|250.22|   584|   427|               5|         None|       >7|       No|         No|         No|            No|         No|           No|       No|       No|         No|          No|           No|      No|      No|          No|        No|     No|         No| Steady|                 No|                 No|                      No|                     No|                    No|    No|        Yes|        NO|\n",
            "|    12559926|      14535|      Caucasian|  Male|[60-70)|                1|                       6|                  7|               3|                45|             0|             10|                0|               0|               0|   805|250.01|   780|               8|         None|     None|       No|         No|         No|            No|         No|           No|       No|       No|         No|          No|           No|      No|      No|          No|        No|     No|         No| Steady|                 No|                 No|                      No|                     No|                    No|    No|        Yes|        NO|\n",
            "|    73031526|      14949|      Caucasian|Female|[40-50)|                1|                       1|                  7|               4|                57|             0|             10|                0|               0|               0|   682|   571|    70|               8|         None|     None|   Steady|         No|         No|            No|         No|           No|       No|       No|         No|          No|           No|      No|      No|          No|        No|     No|         No| Steady|                 No|                 No|                      No|                     No|                    No|    Ch|        Yes|        NO|\n",
            "+------------+-----------+---------------+------+-------+-----------------+------------------------+-------------------+----------------+------------------+--------------+---------------+-----------------+----------------+----------------+------+------+------+----------------+-------------+---------+---------+-----------+-----------+--------------+-----------+-------------+---------+---------+-----------+------------+-------------+--------+--------+------------+----------+-------+-----------+-------+-------------------+-------------------+------------------------+-----------------------+----------------------+------+-----------+----------+\n",
            "only showing top 20 rows\n",
            "\n"
          ]
        }
      ],
      "source": [
        "# get unique values of all cols\n",
        "df_distinct=df1.distinct()\n",
        "df_distinct.show()"
      ]
    },
    {
      "cell_type": "code",
      "execution_count": null,
      "metadata": {
        "colab": {
          "base_uri": "https://localhost:8080/"
        },
        "id": "fFmgsbyBmxaN",
        "outputId": "b04b48c0-77d7-427c-89f8-6597da7afd3e"
      },
      "outputs": [
        {
          "output_type": "stream",
          "name": "stdout",
          "text": [
            "(68358, 47)\n"
          ]
        }
      ],
      "source": [
        "# new dataframe shape\n",
        "print((df_distinct.count(), len(df_distinct.columns)))"
      ]
    },
    {
      "cell_type": "code",
      "execution_count": null,
      "metadata": {
        "id": "gDmNBZg-nMG2"
      },
      "outputs": [],
      "source": [
        "# creating categorical, numerical lists of columns\n",
        "categorical_cols = ['age','race', 'gender', 'max_glu_serum', 'A1Cresult', 'metformin', 'repaglinide', 'nateglinide', 'chlorpropamide',\n",
        "       'glimepiride', 'acetohexamide', 'glipizide', 'glyburide', 'tolbutamide',\n",
        "       'pioglitazone', 'rosiglitazone', 'acarbose', 'miglitol', 'troglitazone',\n",
        "       'tolazamide', 'insulin',\n",
        "       'glyburide-metformin', 'glipizide-metformin','citoglipton','examide',\n",
        "       'glimepiride-pioglitazone', 'metformin-rosiglitazone',\n",
        "       'metformin-pioglitazone', 'change', 'diabetesMed']\n",
        "#  'payer_code' dropped\n",
        "\n",
        "numerical_cols = ['time_in_hospital','num_lab_procedures', 'num_procedures', 'num_medications',\n",
        "       'number_outpatient', 'number_emergency', 'number_inpatient','number_diagnoses']"
      ]
    },
    {
      "cell_type": "code",
      "execution_count": null,
      "metadata": {
        "id": "EKSjlm_ynO52"
      },
      "outputs": [],
      "source": [
        "# Creating a view to query in sql\n",
        "df1.createOrReplaceTempView(\"tempview\")"
      ]
    },
    {
      "cell_type": "code",
      "execution_count": null,
      "metadata": {
        "colab": {
          "base_uri": "https://localhost:8080/"
        },
        "id": "Hi62CmMlnTnc",
        "outputId": "6efc77f5-3aa7-47ee-dad8-1806474ac1a1"
      },
      "outputs": [
        {
          "output_type": "stream",
          "name": "stdout",
          "text": [
            "+------------+-----------+---------------+------+-------+-----------------+------------------------+-------------------+----------------+------------------+--------------+---------------+-----------------+----------------+----------------+------+------+------+----------------+-------------+---------+---------+-----------+-----------+--------------+-----------+-------------+---------+---------+-----------+------------+-------------+--------+--------+------------+----------+-------+-----------+-------+-------------------+-------------------+------------------------+-----------------------+----------------------+------+-----------+----------+\n",
            "|encounter_id|patient_nbr|           race|gender|    age|admission_type_id|discharge_disposition_id|admission_source_id|time_in_hospital|num_lab_procedures|num_procedures|num_medications|number_outpatient|number_emergency|number_inpatient|diag_1|diag_2|diag_3|number_diagnoses|max_glu_serum|A1Cresult|metformin|repaglinide|nateglinide|chlorpropamide|glimepiride|acetohexamide|glipizide|glyburide|tolbutamide|pioglitazone|rosiglitazone|acarbose|miglitol|troglitazone|tolazamide|examide|citoglipton|insulin|glyburide-metformin|glipizide-metformin|glimepiride-pioglitazone|metformin-rosiglitazone|metformin-pioglitazone|change|diabetesMed|readmitted|\n",
            "+------------+-----------+---------------+------+-------+-----------------+------------------------+-------------------+----------------+------------------+--------------+---------------+-----------------+----------------+----------------+------+------+------+----------------+-------------+---------+---------+-----------+-----------+--------------+-----------+-------------+---------+---------+-----------+------------+-------------+--------+--------+------------+----------+-------+-----------+-------+-------------------+-------------------+------------------------+-----------------------+----------------------+------+-----------+----------+\n",
            "|   189899286|        729|      Caucasian|Female|[80-90)|                1|                       3|                  7|               4|                68|             2|             23|                0|               0|               0|   820|   493|  E880|               9|         None|       >7|   Steady|         No|         No|            No|         No|           No|       No|       No|         No|          No|           No|      No|      No|          No|        No|     No|         No|     No|                 No|                 No|                      No|                     No|                    No|    No|        Yes|        NO|\n",
            "|    64331490|        774|      Caucasian|Female|[80-90)|                1|                       1|                  7|               3|                46|             0|             20|                0|               0|               0|   274|   427|   416|               9|         None|       >8|   Steady|         No|         No|            No|         No|           No|       No|   Steady|         No|          No|           No|      No|      No|          No|        No|     No|         No|     No|                 No|                 No|                      No|                     No|                    No|    Ch|        Yes|        NO|\n",
            "|    60254142|       1314|      Caucasian|Female|[40-50)|                2|                       1|                  1|               2|                50|             5|             13|                0|               0|               0|   996|   411|   401|               9|         None|     None|       No|         No|         No|            No|         No|           No|       No|       No|         No|          No|           No|      No|      No|          No|        No|     No|         No| Steady|                 No|                 No|                      No|                     No|                    No|    No|        Yes|       >30|\n",
            "|    14897280|       2025|      Caucasian|Female|[70-80)|                2|                       3|                  1|              12|                47|             2|             18|                0|               0|               0|   682|   707|   560|               9|         None|     Norm|       No|         No|         No|            No|       Down|           No|       No|       No|         No|          No|           No|      No|      No|          No|        No|     No|         No| Steady|                 No|                 No|                      No|                     No|                    No|    Ch|        Yes|        NO|\n",
            "|    36469686|       3069|      Caucasian|  Male|[60-70)|                2|                       1|                  1|               8|                57|             6|             31|                0|               0|               0|   414|   584|   285|               9|         None|       >8|       No|         No|         No|            No|         No|           No|       No|       No|         No|          No|           No|      No|      No|          No|        No|     No|         No| Steady|                 No|                 No|                      No|                     No|                    No|    No|        Yes|        NO|\n",
            "|     7981038|       5220|      Caucasian|  Male|[60-70)|                1|                       1|                  7|               2|                15|             0|             14|                0|               0|               0|   276|   426|   558|               9|         None|     None|       No|         No|         No|            No|         No|           No|       No|       No|         No|          No|           No|      No|      No|          No|        No|     No|         No| Steady|                 No|                 No|                      No|                     No|                    No|    No|        Yes|       >30|\n",
            "|    12979032|       5337|      Caucasian|  Male|[70-80)|                3|                       5|                  1|               7|                27|             3|             16|                0|               0|               0|   434|   342|   250|               9|         None|       >8|       No|         No|         No|            No|         No|           No|       Up|   Steady|         No|          No|           No|      Up|      No|          No|        No|     No|         No| Steady|                 No|                 No|                      No|                     No|                    No|    Ch|        Yes|       >30|\n",
            "|    33994464|       6939|      Caucasian|  Male|[70-80)|                3|                       1|                  1|               6|                65|             2|             19|                0|               0|               0|   424|   997|   788|               7|         None|     None|   Steady|         No|         No|            No|         No|           No|       No|       No|         No|          No|           No|      No|      No|          No|        No|     No|         No|     No|                 No|                 No|                      No|                     No|                    No|    No|        Yes|        NO|\n",
            "|    13010370|       7128|      Caucasian|Female|[80-90)|                1|                       1|                  7|               4|                51|             3|             13|                0|               0|               0|   427|   414|   401|               6|         None|     None|       No|         No|         No|            No|         No|           No|       No|       No|         No|          No|           No|      No|      No|          No|        No|     No|         No|     No|                 No|                 No|                      No|                     No|                    No|    No|         No|        NO|\n",
            "|    74858976|       8208|      Caucasian|  Male|[60-70)|                1|                       1|                  7|               1|                59|             0|             12|                0|               0|               0|   486|   786|   285|               6|         None|     None|   Steady|         No|         No|            No|         No|           No|       No|   Steady|         No|      Steady|           No|      No|      No|          No|        No|     No|         No| Steady|                 No|                 No|                      No|                     No|                    No|    Ch|        Yes|        NO|\n",
            "|    20602470|       8460|      Caucasian|  Male|[80-90)|                2|                       1|                  1|               2|                38|             0|              8|                0|               0|               0|   428|   427|   412|               7|         None|     None|       No|     Steady|         No|            No|         No|           No|       No|       No|         No|          No|           No|      No|      No|          No|        No|     No|         No|     No|                 No|                 No|                      No|                     No|                    No|    No|        Yes|        NO|\n",
            "|   111768030|      10377|      Caucasian|  Male|[70-80)|                2|                       1|                  1|               1|                33|             2|             12|                0|               0|               0|   600|   599|   496|               5|         None|     None|       No|         No|         No|            No|         No|           No|       No|       No|         No|          No|           No|      No|      No|          No|        No|     No|         No| Steady|                 No|                 No|                      No|                     No|                    No|    No|        Yes|        NO|\n",
            "|    24694980|      10422|AfricanAmerican|Female|[70-80)|                3|                       1|                  1|               4|                54|             2|              3|                0|               0|               0|   599|   276|   401|               8|         None|     None|       No|         No|         No|            No|         No|           No|       No|       No|         No|          No|           No|      No|      No|          No|        No|     No|         No|     No|                 No|                 No|                      No|                     No|                    No|    No|         No|        NO|\n",
            "|     3247932|      12447|      Caucasian|Female|[70-80)|                6|                      25|                  7|               7|                70|             2|             20|                0|               0|               0|   486|   428|   427|               9|         None|     None|       No|         No|         No|            No|         No|           No|       No|       No|         No|          No|       Steady|      No|      No|          No|        No|     No|         No| Steady|                 No|                 No|                      No|                     No|                    No|    Ch|        Yes|       >30|\n",
            "|    56444490|      13122|AfricanAmerican|  Male|[50-60)|                3|                       1|                  1|               3|                48|             2|             22|                0|               0|               0|   996|   V42|250.01|               9|         None|     None|       No|         No|         No|            No|         No|           No|       No|       No|         No|          No|           No|      No|      No|          No|        No|     No|         No|     No|                 No|                 No|                      No|                     No|                    No|    No|         No|        NO|\n",
            "|     5289846|      13320|      Caucasian|  Male|[70-80)|                2|                       1|                  7|               1|                58|             0|              8|                0|               0|               0|   276|   787|   414|               7|         None|     None|       No|         No|         No|            No|         No|           No|   Steady|       No|         No|          No|           No|      No|      No|          No|        No|     No|         No| Steady|                 No|                 No|                      No|                     No|                    No|    Ch|        Yes|        NO|\n",
            "|    26331546|      13707|      Caucasian|  Male|[80-90)|                1|                       1|                  7|               3|                35|             0|             10|                0|               0|               0|   428|   571|   403|               8|         None|     None|       No|         No|         No|            No|         No|           No|       No|       No|         No|          No|           No|      No|      No|          No|        No|     No|         No|     No|                 No|                 No|                      No|                     No|                    No|    No|         No|        NO|\n",
            "|    89108670|      14499|      Caucasian|  Male|[80-90)|                1|                       1|                  6|               7|                78|             0|             16|                0|               0|               0|250.22|   584|   427|               5|         None|       >7|       No|         No|         No|            No|         No|           No|       No|       No|         No|          No|           No|      No|      No|          No|        No|     No|         No| Steady|                 No|                 No|                      No|                     No|                    No|    No|        Yes|        NO|\n",
            "|    12559926|      14535|      Caucasian|  Male|[60-70)|                1|                       6|                  7|               3|                45|             0|             10|                0|               0|               0|   805|250.01|   780|               8|         None|     None|       No|         No|         No|            No|         No|           No|       No|       No|         No|          No|           No|      No|      No|          No|        No|     No|         No| Steady|                 No|                 No|                      No|                     No|                    No|    No|        Yes|        NO|\n",
            "|    73031526|      14949|      Caucasian|Female|[40-50)|                1|                       1|                  7|               4|                57|             0|             10|                0|               0|               0|   682|   571|    70|               8|         None|     None|   Steady|         No|         No|            No|         No|           No|       No|       No|         No|          No|           No|      No|      No|          No|        No|     No|         No| Steady|                 No|                 No|                      No|                     No|                    No|    Ch|        Yes|        NO|\n",
            "+------------+-----------+---------------+------+-------+-----------------+------------------------+-------------------+----------------+------------------+--------------+---------------+-----------------+----------------+----------------+------+------+------+----------------+-------------+---------+---------+-----------+-----------+--------------+-----------+-------------+---------+---------+-----------+------------+-------------+--------+--------+------------+----------+-------+-----------+-------+-------------------+-------------------+------------------------+-----------------------+----------------------+------+-----------+----------+\n",
            "only showing top 20 rows\n",
            "\n"
          ]
        }
      ],
      "source": [
        "# Replacing null values in race with 'UNK'\n",
        "df1 = df1.withColumn('race', when(df1.race.isNull(),\n",
        "lit('UNK')).otherwise(df1.race))\n",
        "\n",
        "# We have replaced null value with a 'UNK'\n",
        "df1.show()"
      ]
    },
    {
      "cell_type": "markdown",
      "metadata": {
        "id": "ZHhNsM5X61fk"
      },
      "source": [
        "# **Exploratory Data Analysis (EDA) and Data Manipulation**"
      ]
    },
    {
      "cell_type": "code",
      "execution_count": null,
      "metadata": {
        "colab": {
          "base_uri": "https://localhost:8080/"
        },
        "id": "gB_CBLetn7bS",
        "outputId": "8f58fbfe-d1ff-4cc7-dd24-d30c91d052dc"
      },
      "outputs": [
        {
          "output_type": "stream",
          "name": "stdout",
          "text": [
            "+---------------+-----+\n",
            "|           race|count|\n",
            "+---------------+-----+\n",
            "|      Caucasian|52638|\n",
            "|          Other| 1157|\n",
            "|AfricanAmerican|12611|\n",
            "|       Hispanic| 1469|\n",
            "|          Asian|  483|\n",
            "+---------------+-----+\n",
            "\n"
          ]
        }
      ],
      "source": [
        "df1.select('race').groupBy('race').count().show()"
      ]
    },
    {
      "cell_type": "code",
      "execution_count": null,
      "metadata": {
        "colab": {
          "base_uri": "https://localhost:8080/"
        },
        "id": "nEvmbgiBn-OY",
        "outputId": "f79274f9-7074-4743-8dd3-bcfd3b81e300"
      },
      "outputs": [
        {
          "output_type": "stream",
          "name": "stdout",
          "text": [
            "+--------+-----+\n",
            "|     age|count|\n",
            "+--------+-----+\n",
            "| [70-80)|17588|\n",
            "|[90-100)| 1836|\n",
            "| [40-50)| 6498|\n",
            "| [10-20)|  340|\n",
            "| [20-30)|  992|\n",
            "| [30-40)| 2505|\n",
            "|  [0-10)|   64|\n",
            "| [80-90)|11202|\n",
            "| [50-60)|11960|\n",
            "| [60-70)|15373|\n",
            "+--------+-----+\n",
            "\n"
          ]
        }
      ],
      "source": [
        "df1.select('age').groupBy('age').count().show()"
      ]
    },
    {
      "cell_type": "code",
      "execution_count": null,
      "metadata": {
        "id": "ZeTncioQoBaa"
      },
      "outputs": [],
      "source": [
        "from pyspark.sql import functions as fn\n",
        "# Converting age (in string) to average of the given range (string datatype)\n",
        "\n",
        "df1 = df1.withColumn('age',fn.when(df1.age=='[0-10)',5).otherwise(df1.age))\n",
        "df1 = df1.withColumn('age',fn.when(df1.age=='[10-20)',15).otherwise(df1.age))\n",
        "df1 = df1.withColumn('age',fn.when(df1.age=='[20-30)',25).otherwise(df1.age))\n",
        "df1 = df1.withColumn('age',fn.when(df1.age=='[30-40)',35).otherwise(df1.age))\n",
        "df1= df1.withColumn('age',fn.when(df1.age=='[40-50)',45).otherwise(df1.age))\n",
        "df1= df1.withColumn('age',fn.when(df1.age=='[50-60)',55).otherwise(df1.age))\n",
        "df1= df1.withColumn('age',fn.when(df1.age=='[60-70)',65).otherwise(df1.age))\n",
        "df1= df1.withColumn('age',fn.when(df1.age=='[70-80)',75).otherwise(df1.age))\n",
        "df1= df1.withColumn('age',fn.when(df1.age=='[80-90)',85).otherwise(df1.age))\n",
        "df1= df1.withColumn('age',fn.when(df1.age=='[90-100)',95).otherwise(df1.age))\n",
        "df1= df1.withColumn('age',fn.when(df1.age=='[100-110)',105).otherwise(df1.age))"
      ]
    },
    {
      "cell_type": "code",
      "execution_count": null,
      "metadata": {
        "id": "SBq3Gq85oELq"
      },
      "outputs": [],
      "source": [
        "from pyspark.sql.types import IntegerType\n",
        "# Changing data type of age into Integer\n",
        "df1 = df1.withColumn(\"age\", df1[\"age\"].cast(IntegerType()))"
      ]
    },
    {
      "cell_type": "code",
      "execution_count": null,
      "metadata": {
        "colab": {
          "base_uri": "https://localhost:8080/"
        },
        "id": "1Zf3n_UGoK1z",
        "outputId": "92bb6e1f-8244-4039-c2dc-10ef05c9bd8d"
      },
      "outputs": [
        {
          "output_type": "stream",
          "name": "stdout",
          "text": [
            "+---------------+-----+\n",
            "|         gender|count|\n",
            "+---------------+-----+\n",
            "|         Female|36440|\n",
            "|           Male|31917|\n",
            "|Unknown/Invalid|    1|\n",
            "+---------------+-----+\n",
            "\n"
          ]
        }
      ],
      "source": [
        "df1.select('gender').groupBy('gender').count().show()"
      ]
    },
    {
      "cell_type": "code",
      "execution_count": null,
      "metadata": {
        "id": "rGO9n1_XoNVu"
      },
      "outputs": [],
      "source": [
        "# Keeping only the rows which contain \"Male\" and \"Female\" values in gender column\n",
        "df2=df1.filter(df1.gender.contains('Male')|df1.gender.contains('Female'))"
      ]
    },
    {
      "cell_type": "code",
      "execution_count": null,
      "metadata": {
        "colab": {
          "base_uri": "https://localhost:8080/"
        },
        "id": "8_81mfUqoPhO",
        "outputId": "67a004b1-bb85-49db-89cd-a37f026e6fff"
      },
      "outputs": [
        {
          "output_type": "stream",
          "name": "stdout",
          "text": [
            "+------+-----+\n",
            "|gender|count|\n",
            "+------+-----+\n",
            "|Female|36440|\n",
            "|  Male|31917|\n",
            "+------+-----+\n",
            "\n"
          ]
        }
      ],
      "source": [
        "# Displaying only Male and Female values\n",
        "df2.select('gender').groupBy('gender').count().show()"
      ]
    },
    {
      "cell_type": "code",
      "execution_count": null,
      "metadata": {
        "id": "OkNWygCroTEG"
      },
      "outputs": [],
      "source": [
        "# dropping id cols -'encounter_id' as they have no effect on the prediction; and all the medication cols except insulin, also drop diag_2 and diag_3 as only diag_1 we need for prediction.\n",
        "drop_list = ['encounter_id','medical_specialty','citoglipton', 'examide', 'metformin', 'repaglinide', 'nateglinide', 'chlorpropamide', 'glimepiride', 'acetohexamide', 'glipizide', 'glyburide', 'tolbutamide', 'pioglitazone','rosiglitazone', 'acarbose', 'miglitol', 'troglitazone', 'tolazamide', 'examide', 'citoglipton', 'glyburide-metformin', 'glipizide-metformin', 'glimepiride-pioglitazone', 'metformin-rosiglitazone', 'metformin-pioglitazone', 'diag_2', 'diag_3']\n",
        "\n",
        "df3 = df2.select([column for column in df2.columns if column not in drop_list])"
      ]
    },
    {
      "cell_type": "code",
      "execution_count": null,
      "metadata": {
        "colab": {
          "base_uri": "https://localhost:8080/"
        },
        "id": "kyUCVLNLoZ9N",
        "outputId": "6a70bb61-75a7-43c2-8542-e7e385afaa39"
      },
      "outputs": [
        {
          "output_type": "execute_result",
          "data": {
            "text/plain": [
              "[('patient_nbr', 'int'),\n",
              " ('race', 'string'),\n",
              " ('gender', 'string'),\n",
              " ('age', 'int'),\n",
              " ('admission_type_id', 'int'),\n",
              " ('discharge_disposition_id', 'int'),\n",
              " ('admission_source_id', 'int'),\n",
              " ('time_in_hospital', 'int'),\n",
              " ('num_lab_procedures', 'int'),\n",
              " ('num_procedures', 'int'),\n",
              " ('num_medications', 'int'),\n",
              " ('number_outpatient', 'int'),\n",
              " ('number_emergency', 'int'),\n",
              " ('number_inpatient', 'int'),\n",
              " ('diag_1', 'string'),\n",
              " ('number_diagnoses', 'int'),\n",
              " ('max_glu_serum', 'string'),\n",
              " ('A1Cresult', 'string'),\n",
              " ('insulin', 'string'),\n",
              " ('change', 'string'),\n",
              " ('diabetesMed', 'string'),\n",
              " ('readmitted', 'string')]"
            ]
          },
          "metadata": {},
          "execution_count": 44
        }
      ],
      "source": [
        "df3.dtypes"
      ]
    },
    {
      "cell_type": "code",
      "execution_count": null,
      "metadata": {
        "id": "TEtyh7typFaQ"
      },
      "outputs": [],
      "source": [
        "# Recoding the readmission variable to 1 and 0 to get the correlation with the predictor variables\n",
        "# 0 - no readmission\n",
        "# 1 - readmission without considering the no of days after discharge\n",
        "\n",
        "df3 = df3.withColumn('readmitted',fn.when(df3[\"readmitted\"] == 'NO', 0).otherwise(1))\n",
        "\n",
        "# Creating a temporary view temp2, after recoding the readmission variable\n",
        "df3.createOrReplaceTempView(\"temp2\")"
      ]
    },
    {
      "cell_type": "code",
      "execution_count": null,
      "metadata": {
        "colab": {
          "base_uri": "https://localhost:8080/"
        },
        "id": "43TZfGi863Jv",
        "outputId": "d88d29c5-6470-46e6-a5a3-dd13668abbd1"
      },
      "outputs": [
        {
          "output_type": "stream",
          "name": "stdout",
          "text": [
            "+----------+-----+\n",
            "|readmitted|count|\n",
            "+----------+-----+\n",
            "|         1|27629|\n",
            "|         0|40728|\n",
            "+----------+-----+\n",
            "\n"
          ]
        }
      ],
      "source": [
        "readmitted_count = df3.select('readmitted').groupBy('readmitted').count().show()"
      ]
    },
    {
      "cell_type": "code",
      "execution_count": null,
      "metadata": {
        "colab": {
          "base_uri": "https://localhost:8080/",
          "height": 606
        },
        "id": "4wlqJsLRplxC",
        "outputId": "45f68142-b39b-414c-8f79-79b1689688a2"
      },
      "outputs": [
        {
          "output_type": "stream",
          "name": "stdout",
          "text": [
            "                         age  time_in_hospital  ...  number_diagnoses  readmitted\n",
            "age                 1.000000          0.116378  ...          0.209580    0.057657\n",
            "time_in_hospital    0.116378          1.000000  ...          0.223550    0.056147\n",
            "num_lab_procedures  0.025145          0.329762  ...          0.154551    0.044139\n",
            "num_procedures     -0.040987          0.188035  ...          0.071382   -0.029140\n",
            "num_medications     0.028725          0.467094  ...          0.236525    0.030686\n",
            "number_outpatient   0.022952         -0.017350  ...          0.073424    0.061541\n",
            "number_emergency   -0.050136         -0.010068  ...          0.048706    0.074807\n",
            "number_inpatient    0.013349          0.062170  ...          0.064316    0.139924\n",
            "number_diagnoses    0.209580          0.223550  ...          1.000000    0.092730\n",
            "readmitted          0.057657          0.056147  ...          0.092730    1.000000\n",
            "\n",
            "[10 rows x 10 columns]\n"
          ]
        },
        {
          "output_type": "execute_result",
          "data": {
            "text/plain": [
              "<matplotlib.axes._subplots.AxesSubplot at 0x7f2dd0d2bd90>"
            ]
          },
          "metadata": {},
          "execution_count": 47
        },
        {
          "output_type": "display_data",
          "data": {
            "image/png": "[encoded data removed]",
            "text/plain": [
              "<Figure size 432x288 with 2 Axes>"
            ]
          },
          "metadata": {
            "needs_background": "light"
          }
        }
      ],
      "source": [
        "# Checking correlation among numerical variables and target variable readmitted\n",
        "correlation_matrix = df3.select('age','time_in_hospital','num_lab_procedures','num_procedures','num_medications','number_outpatient',\n",
        "                              'number_emergency','number_inpatient','number_diagnoses','readmitted')\n",
        "\n",
        "pandas_correlation = correlation_matrix.toPandas()\n",
        "print(pandas_correlation.corr())\n",
        "#cmap = sns.diverging_palette(230, 20, as_cmap=True)\n",
        "sns.heatmap(pandas_correlation.corr(),square=True,cmap=\"Greens\")"
      ]
    },
    {
      "cell_type": "code",
      "execution_count": null,
      "metadata": {
        "colab": {
          "base_uri": "https://localhost:8080/",
          "height": 1000
        },
        "id": "VSV5haMB6_zW",
        "outputId": "d99fd791-f56f-46e5-c87e-fba8d80dd711"
      },
      "outputs": [
        {
          "output_type": "execute_result",
          "data": {
            "text/plain": [
              "<matplotlib.axes._subplots.AxesSubplot at 0x7f2dc48a1dd0>"
            ]
          },
          "metadata": {},
          "execution_count": 48
        },
        {
          "output_type": "display_data",
          "data": {
            "image/png": "[encoded data removed]",
            "text/plain": [
              "<Figure size 432x288 with 1 Axes>"
            ]
          },
          "metadata": {
            "needs_background": "light"
          }
        },
        {
          "output_type": "display_data",
          "data": {
            "image/png": "[encoded data removed]",
            "text/plain": [
              "<Figure size 432x288 with 1 Axes>"
            ]
          },
          "metadata": {
            "needs_background": "light"
          }
        },
        {
          "output_type": "display_data",
          "data": {
            "image/png": "[encoded data removed]",
            "text/plain": [
              "<Figure size 432x288 with 1 Axes>"
            ]
          },
          "metadata": {
            "needs_background": "light"
          }
        },
        {
          "output_type": "display_data",
          "data": {
            "image/png": "[encoded data removed]",
            "text/plain": [
              "<Figure size 432x288 with 1 Axes>"
            ]
          },
          "metadata": {
            "needs_background": "light"
          }
        },
        {
          "output_type": "display_data",
          "data": {
            "image/png": "[encoded data removed]",
            "text/plain": [
              "<Figure size 432x288 with 1 Axes>"
            ]
          },
          "metadata": {
            "needs_background": "light"
          }
        },
        {
          "output_type": "display_data",
          "data": {
            "image/png": "[encoded data removed]",
            "text/plain": [
              "<Figure size 432x288 with 1 Axes>"
            ]
          },
          "metadata": {
            "needs_background": "light"
          }
        },
        {
          "output_type": "display_data",
          "data": {
            "image/png": "[encoded data removed]",
            "text/plain": [
              "<Figure size 432x288 with 1 Axes>"
            ]
          },
          "metadata": {
            "needs_background": "light"
          }
        },
        {
          "output_type": "display_data",
          "data": {
            "image/png": "[encoded data removed]",
            "text/plain": [
              "<Figure size 432x288 with 1 Axes>"
            ]
          },
          "metadata": {
            "needs_background": "light"
          }
        },
        {
          "output_type": "display_data",
          "data": {
            "image/png": "[encoded data removed]",
            "text/plain": [
              "<Figure size 432x288 with 1 Axes>"
            ]
          },
          "metadata": {
            "needs_background": "light"
          }
        },
        {
          "output_type": "display_data",
          "data": {
            "image/png": "[encoded data removed]",
            "text/plain": [
              "<Figure size 432x288 with 1 Axes>"
            ]
          },
          "metadata": {
            "needs_background": "light"
          }
        },
        {
          "output_type": "display_data",
          "data": {
            "image/png": "[encoded data removed]",
            "text/plain": [
              "<Figure size 432x288 with 1 Axes>"
            ]
          },
          "metadata": {
            "needs_background": "light"
          }
        },
        {
          "output_type": "display_data",
          "data": {
            "image/png": "[encoded data removed]",
            "text/plain": [
              "<Figure size 432x288 with 1 Axes>"
            ]
          },
          "metadata": {
            "needs_background": "light"
          }
        },
        {
          "output_type": "display_data",
          "data": {
            "image/png": "[encoded data removed]",
            "text/plain": [
              "<Figure size 432x288 with 1 Axes>"
            ]
          },
          "metadata": {
            "needs_background": "light"
          }
        }
      ],
      "source": [
        "# Grouped Bar Graph with age and Readmitted\n",
        "df4 = df3.toPandas().groupby(['age', 'readmitted'])['age'].count().unstack('readmitted')\n",
        "df4[[0,1]].plot(kind='barh',colormap='winter_r', stacked=False)\n",
        "\n",
        "# Grouped Bar Graph with gender and Readmitted\n",
        "df4 = df3.toPandas().groupby(['gender', 'readmitted'])['gender'].count().unstack('readmitted')\n",
        "df4[[0,1]].plot(kind='barh',colormap='winter_r', stacked=False)\n",
        "\n",
        "# Grouped Bar Graph with race and Readmitted\n",
        "df4 = df3.toPandas().groupby(['race', 'readmitted'])['race'].count().unstack('readmitted')\n",
        "df4[[0,1]].plot(kind='barh',colormap='winter_r', stacked=False)\n",
        "\n",
        "# Grouped Bar Graph with time_in_hospital and Readmitted\n",
        "df4 = df3.toPandas().groupby(['time_in_hospital', 'readmitted'])['time_in_hospital'].count().unstack('readmitted')\n",
        "df4[[0,1]].plot(kind='barh',colormap='winter_r', stacked=False)\n",
        "\n",
        "# Grouped Bar Graph with num_procedures and Readmitted\n",
        "df4 = df3.toPandas().groupby(['num_procedures', 'readmitted'])['num_procedures'].count().unstack('readmitted')\n",
        "df4[[0,1]].plot(kind='barh',colormap='winter_r', stacked=False)\n",
        "\n",
        "# Grouped Bar Graph with num_medications and Readmitted\n",
        "df4 = df3.toPandas().groupby(['num_medications', 'readmitted'])['num_medications'].count().unstack('readmitted')\n",
        "df4[[0,1]].plot(kind='barh',colormap='winter_r', stacked=False)\n",
        "\n",
        "# Grouped Bar Graph with number of emergency and Readmitted\n",
        "df4 = df3.toPandas().groupby(['number_emergency', 'readmitted'])['number_emergency'].count().unstack('readmitted')\n",
        "df4[[0,1]].plot(kind='barh',colormap='winter_r', stacked=False)\n",
        "\n",
        "# Grouped Bar Graph with Number of diagnoses and Readmitted\n",
        "df4 = df3.toPandas().groupby(['number_diagnoses', 'readmitted'])['number_diagnoses'].count().unstack('readmitted')\n",
        "df4[[0,1]].plot(kind='barh',colormap='winter_r', stacked=False)\n",
        "\n",
        "# Grouped Bar Graph with A1Cresult and Readmitted\n",
        "df4 = df3.toPandas().groupby(['A1Cresult', 'readmitted'])['A1Cresult'].count().unstack('readmitted')\n",
        "df4[[0,1]].plot(kind='barh',colormap='winter_r', stacked=False)\n",
        "\n",
        "# Grouped Bar Graph with Insulin and Readmitted\n",
        "df4 = df3.toPandas().groupby(['insulin', 'readmitted'])['insulin'].count().unstack('readmitted')\n",
        "df4[[0,1]].plot(kind='barh',colormap='winter_r', stacked=False)\n",
        "\n",
        "# Grouped Bar Graph with max_glu_serum and Readmitted\n",
        "df4 = df3.toPandas().groupby(['max_glu_serum', 'readmitted'])['max_glu_serum'].count().unstack('readmitted')\n",
        "df4[[0,1]].plot(kind='barh',colormap='winter_r', stacked=False)\n",
        "\n",
        "# Grouped Bar Graph with change and Readmitted\n",
        "df4 = df3.toPandas().groupby(['change', 'readmitted'])['change'].count().unstack('readmitted')\n",
        "df4[[0,1]].plot(kind='barh',colormap='winter_r', stacked=False)\n",
        "\n",
        "# Grouped Bar Graph with diabetesMed and Readmitted\n",
        "df4 = df3.toPandas().groupby(['diabetesMed', 'readmitted'])['diabetesMed'].count().unstack('readmitted')\n",
        "df4[[0,1]].plot(kind='barh',colormap='winter_r', stacked=False)"
      ]
    },
    {
      "cell_type": "markdown",
      "metadata": {
        "id": "MYRFJbpWvVY_"
      },
      "source": [
        "# **Feature Engineering**"
      ]
    },
    {
      "cell_type": "code",
      "execution_count": null,
      "metadata": {
        "id": "eXj7pGJeq0Tp"
      },
      "outputs": [],
      "source": [
        "# creating categorical, numerical lists of columns after dropping the cols\n",
        "\n",
        "categorical_cols = ['race', 'gender', 'max_glu_serum', 'A1Cresult',  'insulin', 'change', 'diabetesMed', 'admission_source_id', 'admission_type_id', 'discharge_disposition_id']\n",
        "\n",
        "numerical_cols = ['age','time_in_hospital','num_lab_procedures', 'num_procedures', 'num_medications',\n",
        "       'number_outpatient', 'number_emergency', 'number_inpatient','number_diagnoses']\n",
        "\n",
        "# Currently unsure what to do with 'diag_1','diag_2', 'diag_3' cols\n",
        "# In cat cols, 'max_glu_serum', 'change', 'diabetesMed' has also been included. Need to see if they are also needed.\n",
        "# In num cols, need to see if 'number_inpatient', 'number_outpatient' are also needed."
      ]
    },
    {
      "cell_type": "code",
      "execution_count": null,
      "metadata": {
        "colab": {
          "base_uri": "https://localhost:8080/"
        },
        "id": "G5Bq-qulq5x4",
        "outputId": "5a186a30-49d7-4baa-f9ff-0476846f23ad"
      },
      "outputs": [
        {
          "output_type": "stream",
          "name": "stdout",
          "text": [
            "Numerical Features: 9\n",
            "Categorical Features: 10\n"
          ]
        }
      ],
      "source": [
        "#print('Total number of features:', len(numerical_cols + categorical_cols))\n",
        "print('Numerical Features:',len(numerical_cols))\n",
        "print('Categorical Features:',len(categorical_cols))"
      ]
    },
    {
      "cell_type": "markdown",
      "metadata": {
        "id": "1ch5OX4Uvj4T"
      },
      "source": [
        "Creating Dummy variables for nominal categorical columns"
      ]
    },
    {
      "cell_type": "code",
      "execution_count": null,
      "metadata": {
        "id": "N56Q8q-K7C13"
      },
      "outputs": [],
      "source": [
        "# Creating dummy variables for admission_type_id\n",
        "df3 = df3.withColumn('admn_type_emergency',fn.when(fn.col('admission_type_id')==1,1).otherwise(0))\n",
        "df3 = df3.withColumn('admn_type_urgent',fn.when(fn.col('admission_type_id')==2,1).otherwise(0))\n",
        "df3= df3.withColumn('admn_type_elective',fn.when(fn.col('admission_type_id')==3,1).otherwise(0))\n",
        "df3 = df3.withColumn('admn_type_trauma',fn.when(fn.col('admission_type_id')==7,1).otherwise(0))"
      ]
    },
    {
      "cell_type": "code",
      "execution_count": null,
      "metadata": {
        "id": "HN6pwk9r7K9-"
      },
      "outputs": [],
      "source": [
        "# Creating dummy variables for discharge_disposition_id\n",
        "df3 = df3.withColumn('discharge_disp_home',fn.when(fn.col('discharge_disposition_id')==1,1).otherwise(0))\n",
        "df3 = df3.withColumn('discharge_disp_shortm_hos',fn.when(fn.col('discharge_disposition_id')==2,1).otherwise(0))\n",
        "df3 = df3.withColumn('discharge_disp_snf',fn.when(fn.col('discharge_disposition_id')==3,1).otherwise(0))\n",
        "df3 = df3.withColumn('discharge_disp_icf',fn.when(fn.col('discharge_disposition_id')==4,1).otherwise(0))\n",
        "df3 = df3.withColumn('discharge_disp_careInst',fn.when(fn.col('discharge_disposition_id')==5,1).otherwise(0))\n",
        "df3 = df3.withColumn('discharge_disp_hhs',fn.when(fn.col('discharge_disposition_id')==6,1).otherwise(0))\n",
        "df3 = df3.withColumn('discharge_disp_ama',fn.when(fn.col('discharge_disposition_id')==7,1).otherwise(0))\n",
        "df3 = df3.withColumn('discharge_disp_homeIvy',fn.when(fn.col('discharge_disposition_id')==8,1).otherwise(0))\n",
        "df3 = df3.withColumn('discharge_disp_admInp',fn.when(fn.col('discharge_disposition_id')==9,1).otherwise(0))\n",
        "df3 = df3.withColumn('discharge_disp_expired',fn.when(fn.col('discharge_disposition_id')==11,1).otherwise(0))\n",
        "df3 = df3.withColumn('discharge_disp_hospice',fn.when(fn.col('discharge_disposition_id')==13,1).otherwise(0))\n",
        "df3 = df3.withColumn('discharge_disp_medfac',fn.when(fn.col('discharge_disposition_id')==14,1).otherwise(0))\n",
        "df3 = df3.withColumn('discharge_disp_swingbed',fn.when(fn.col('discharge_disposition_id')==15,1).otherwise(0))\n",
        "df3 = df3.withColumn('discharge_disp_rehab',fn.when(fn.col('discharge_disposition_id')==22,1).otherwise(0))\n",
        "df3 = df3.withColumn('discharge_disp_long',fn.when(fn.col('discharge_disposition_id')==23,1).otherwise(0))\n",
        "df3 = df3.withColumn('discharge_disp_nursing',fn.when(fn.col('discharge_disposition_id')==24,1).otherwise(0))\n",
        "df3 = df3.withColumn('discharge_disp_federal',fn.when(fn.col('discharge_disposition_id')==27,1).otherwise(0))\n",
        "df3 = df3.withColumn('discharge_disp_psy',fn.when(fn.col('discharge_disposition_id')==28,1).otherwise(0))"
      ]
    },
    {
      "cell_type": "code",
      "execution_count": null,
      "metadata": {
        "id": "dxiquvG_7ohk"
      },
      "outputs": [],
      "source": [
        "# Creating dummy variables for admission_source_id\n",
        "df3 = df3.withColumn('admn_source_phyref',fn.when(fn.col('admission_source_id')==1,1).otherwise(0))\n",
        "df3 = df3.withColumn('admn_source_cliref',fn.when(fn.col('admission_source_id')==2,1).otherwise(0))\n",
        "df3 = df3.withColumn('admn_source_hmoref',fn.when(fn.col('admission_source_id')==3,1).otherwise(0))\n",
        "df3 = df3.withColumn('admn_source_hos',fn.when(fn.col('admission_source_id')==4,1).otherwise(0))\n",
        "df3 = df3.withColumn('admn_source_snf',fn.when(fn.col('admission_source_id')==5,1).otherwise(0))\n",
        "df3 = df3.withColumn('admn_source_hlthcare',fn.when(fn.col('admission_source_id')==6,1).otherwise(0))\n",
        "df3 = df3.withColumn('admn_source_emergency',fn.when(fn.col('admission_source_id')==7,1).otherwise(0))\n",
        "df3 = df3.withColumn('admn_source_court',fn.when(fn.col('admission_source_id')==8,1).otherwise(0))\n",
        "df3 = df3.withColumn('admn_source_critical',fn.when(fn.col('admission_source_id')==10,1).otherwise(0))\n",
        "df3 = df3.withColumn('admn_source_normdel',fn.when(fn.col('admission_source_id')==11,1).otherwise(0))\n",
        "df3 = df3.withColumn('admn_source_birth',fn.when(fn.col('admission_source_id')==14,1).otherwise(0))\n",
        "df3 = df3.withColumn('admn_source_surgery',fn.when(fn.col('admission_source_id')==25,1).otherwise(0))"
      ]
    },
    {
      "cell_type": "code",
      "execution_count": null,
      "metadata": {
        "id": "Jyi4drvv7rH-"
      },
      "outputs": [],
      "source": [
        "# Creating dummy variables for race\n",
        "df3 = df3.withColumn('rc_AfricanAmerican',fn.when(fn.col('race')=='AfricanAmerican',1).otherwise(0))\n",
        "df3 = df3.withColumn('rc_Asian',fn.when(fn.col('race')=='Asian',1).otherwise(0))\n",
        "df3 = df3.withColumn('rc_Caucasian',fn.when(fn.col('race')=='Caucasian',1).otherwise(0))\n",
        "df3 = df3.withColumn('rc_Hispanic',fn.when(fn.col('race')=='Hispanic',1).otherwise(0))"
      ]
    },
    {
      "cell_type": "code",
      "execution_count": null,
      "metadata": {
        "id": "81fkPmdL7tXl"
      },
      "outputs": [],
      "source": [
        "# Creating dummy variables for gender\n",
        "df3 = df3.withColumn('gender_male',fn.when(fn.col('gender')=='Male',1).otherwise(0))"
      ]
    },
    {
      "cell_type": "code",
      "execution_count": null,
      "metadata": {
        "id": "kBjVzu1z7yX7"
      },
      "outputs": [],
      "source": [
        "# Grouped all the different types of diganosis based on their diag values specificed by the mapping document(ICD codes)\n",
        "# Created dummy variables for each category\n",
        "\n",
        "df3 = df3.withColumn('diag1_Circulatory',\n",
        "fn.when((df3['diag_1'] >= 390) & (df3['diag_1'] <= 459) | (df3['diag_1'] == 785), 1).otherwise(0))\n",
        "\n",
        "df3 = df3.withColumn('diag1_Respiratory',\n",
        "fn.when((df3['diag_1'] >= 460) & (df3['diag_1'] <= 519) | (df3['diag_1'] == 786), 1).otherwise(0))\n",
        "\n",
        "df3 = df3.withColumn('diag1_Digestive',\n",
        "fn.when((df3['diag_1'] >= 520) & (df3['diag_1'] <= 579) | (df3['diag_1'] == 787), 1).otherwise(0))\n",
        "\n",
        "df3 = df3.withColumn('diag1_Diabetes',\n",
        "fn.when((df3['diag_1'] >= 250.00) & (df3['diag_1'] <= 250.99), 1).otherwise(0))\n",
        "\n",
        "df3 = df3.withColumn('diag1_Injury',\n",
        "fn.when((df3['diag_1'] >= 800) & (df3['diag_1'] <= 999), 1).otherwise(0))\n",
        "\n",
        "df3 = df3.withColumn('diag1_Musculoskeletal',\n",
        "fn.when((df3['diag_1'] >= 710) & (df3['diag_1'] <= 739), 1).otherwise(0))\n",
        "\n",
        "df3 = df3.withColumn('diag1_Genitourinary',\n",
        "fn.when((df3['diag_1'] >= 580) & (df3['diag_1'] <= 629) | (df3['diag_1'] == 788), 1).otherwise(0))\n",
        "\n",
        "\n",
        "df3 = df3.withColumn('diag1_Neoplasms',\n",
        "fn.when(((df3['diag_1'] >= 1) & (df3['diag_1'] <= 249)) | (df3['diag_1'] == 780) |\n",
        "    (df3['diag_1'] == 781) | (df3['diag_1'] == 782) | (df3['diag_1'] == 784) |\n",
        "        ((df3['diag_1'] >= 251) & (df3['diag_1'] <= 279)) |\n",
        "        ((df3['diag_1'] >= 680) & (df3['diag_1'] <= 709)) |\n",
        "        ((df3['diag_1'] >= 790) & (df3['diag_1'] <= 799)), 1).otherwise(0))\n"
      ]
    },
    {
      "cell_type": "code",
      "execution_count": null,
      "metadata": {
        "id": "L-gpqfwm74fu"
      },
      "outputs": [],
      "source": [
        "# Creating dummy variables for A1Cresult\n",
        "df3 = df3.withColumn('A1C_7',fn.when(fn.col('A1Cresult')=='>7',1).otherwise(0))\n",
        "df3 = df3.withColumn('A1C_8',fn.when(fn.col('A1Cresult')=='>8',1).otherwise(0))\n",
        "df3 = df3.withColumn('A1C_norm',fn.when(fn.col('A1Cresult')=='Norm',1).otherwise(0))"
      ]
    },
    {
      "cell_type": "code",
      "execution_count": null,
      "metadata": {
        "id": "5rVbNlmb77lb"
      },
      "outputs": [],
      "source": [
        "# Creating dummy variables for max_glu_serum\n",
        "df3 = df3.withColumn('max_glu_200',fn.when(fn.col('max_glu_serum')=='>200',1).otherwise(0))\n",
        "df3 = df3.withColumn('max_glu_300',fn.when(fn.col('max_glu_serum')=='>300',1).otherwise(0))\n",
        "df3 = df3.withColumn('max_glu_norm',fn.when(fn.col('max_glu_serum')=='Norm',1).otherwise(0))\n",
        "#df3 = df3..select('max_glu_none','max_glu_200','max_glu_300','max_glu_norm').show(10)\n"
      ]
    },
    {
      "cell_type": "code",
      "execution_count": null,
      "metadata": {
        "id": "8T6uUXSx77r2"
      },
      "outputs": [],
      "source": [
        "# Creating dummy variables for insulin\n",
        "df3 = df3.withColumn('insulin_No',fn.when(fn.col('insulin')=='No',1).otherwise(0))\n",
        "df3 = df3.withColumn('insulin_Up',fn.when(fn.col('insulin')=='Up',1).otherwise(0))\n",
        "df3 = df3.withColumn('insulin_Steady',fn.when(fn.col('insulin')=='Steady',1).otherwise(0))\n",
        "df3 = df3.withColumn('insulin_Down',fn.when(fn.col('insulin')=='Down',1).otherwise(0))"
      ]
    },
    {
      "cell_type": "code",
      "execution_count": null,
      "metadata": {
        "id": "hxE7Fyrp772F"
      },
      "outputs": [],
      "source": [
        "# Creating dummy variables for change and diabetesMed\n",
        "df3 = df3.withColumn('change',fn.when(fn.col('change')=='Ch',1).otherwise(0))\n",
        "df3 = df3.withColumn('diabetesMed',fn.when(fn.col('diabetesMed')=='Yes',1).otherwise(0))"
      ]
    },
    {
      "cell_type": "code",
      "execution_count": null,
      "metadata": {
        "id": "oHMEclcG8Dfw"
      },
      "outputs": [],
      "source": [
        "#keeping all created cat dummy variables(columns) and droping others\n",
        "df3_cat_drop_list = ['race', 'gender', 'max_glu_serum', 'A1Cresult',  'insulin', 'admission_source_id', 'admission_type_id', 'discharge_disposition_id', 'diag_1']\n",
        "df_final = df3.select([column for column in df3.columns if column not in df3_cat_drop_list])"
      ]
    },
    {
      "cell_type": "code",
      "execution_count": null,
      "metadata": {
        "colab": {
          "base_uri": "https://localhost:8080/"
        },
        "id": "8X8RG_3awlP_",
        "outputId": "ef9fbcc4-91d4-4703-f401-6f9c3e1c29ad"
      },
      "outputs": [
        {
          "output_type": "execute_result",
          "data": {
            "text/plain": [
              "['patient_nbr',\n",
              " 'age',\n",
              " 'time_in_hospital',\n",
              " 'num_lab_procedures',\n",
              " 'num_procedures',\n",
              " 'num_medications',\n",
              " 'number_outpatient',\n",
              " 'number_emergency',\n",
              " 'number_inpatient',\n",
              " 'number_diagnoses',\n",
              " 'change',\n",
              " 'diabetesMed',\n",
              " 'readmitted',\n",
              " 'admn_type_emergency',\n",
              " 'admn_type_urgent',\n",
              " 'admn_type_elective',\n",
              " 'admn_type_trauma',\n",
              " 'discharge_disp_home',\n",
              " 'discharge_disp_shortm_hos',\n",
              " 'discharge_disp_snf',\n",
              " 'discharge_disp_icf',\n",
              " 'discharge_disp_careInst',\n",
              " 'discharge_disp_hhs',\n",
              " 'discharge_disp_ama',\n",
              " 'discharge_disp_homeIvy',\n",
              " 'discharge_disp_admInp',\n",
              " 'discharge_disp_expired',\n",
              " 'discharge_disp_hospice',\n",
              " 'discharge_disp_medfac',\n",
              " 'discharge_disp_swingbed',\n",
              " 'discharge_disp_rehab',\n",
              " 'discharge_disp_long',\n",
              " 'discharge_disp_nursing',\n",
              " 'discharge_disp_federal',\n",
              " 'discharge_disp_psy',\n",
              " 'admn_source_phyref',\n",
              " 'admn_source_cliref',\n",
              " 'admn_source_hmoref',\n",
              " 'admn_source_hos',\n",
              " 'admn_source_snf',\n",
              " 'admn_source_hlthcare',\n",
              " 'admn_source_emergency',\n",
              " 'admn_source_court',\n",
              " 'admn_source_critical',\n",
              " 'admn_source_normdel',\n",
              " 'admn_source_birth',\n",
              " 'admn_source_surgery',\n",
              " 'rc_AfricanAmerican',\n",
              " 'rc_Asian',\n",
              " 'rc_Caucasian',\n",
              " 'rc_Hispanic',\n",
              " 'gender_male',\n",
              " 'diag1_Circulatory',\n",
              " 'diag1_Respiratory',\n",
              " 'diag1_Digestive',\n",
              " 'diag1_Diabetes',\n",
              " 'diag1_Injury',\n",
              " 'diag1_Musculoskeletal',\n",
              " 'diag1_Genitourinary',\n",
              " 'diag1_Neoplasms',\n",
              " 'A1C_7',\n",
              " 'A1C_8',\n",
              " 'A1C_norm',\n",
              " 'max_glu_200',\n",
              " 'max_glu_300',\n",
              " 'max_glu_norm',\n",
              " 'insulin_No',\n",
              " 'insulin_Up',\n",
              " 'insulin_Steady',\n",
              " 'insulin_Down']"
            ]
          },
          "metadata": {},
          "execution_count": 65
        }
      ],
      "source": [
        "df_final.columns"
      ]
    },
    {
      "cell_type": "code",
      "execution_count": null,
      "metadata": {
        "colab": {
          "base_uri": "https://localhost:8080/"
        },
        "id": "ejkYth5_xJG4",
        "outputId": "97564266-cdba-4924-ebb0-d2527873bbb9"
      },
      "outputs": [
        {
          "output_type": "stream",
          "name": "stdout",
          "text": [
            "(68357, 70)\n"
          ]
        }
      ],
      "source": [
        "#shape of dataframe\n",
        "print((df_final.count(), len(df_final.columns)))"
      ]
    },
    {
      "cell_type": "markdown",
      "metadata": {
        "id": "r79Tw57gxRjt"
      },
      "source": [
        "# **Modeling**"
      ]
    },
    {
      "cell_type": "code",
      "execution_count": null,
      "metadata": {
        "colab": {
          "base_uri": "https://localhost:8080/"
        },
        "id": "9WWmUs1DxXkd",
        "outputId": "6de853d3-a5b7-4c21-aa35-99858d75633c"
      },
      "outputs": [
        {
          "output_type": "stream",
          "name": "stdout",
          "text": [
            "# training:  41101\n",
            "# validation:  20403\n",
            "# testing:  6853\n"
          ]
        }
      ],
      "source": [
        "#Splitting Data into Training, Validation and Testing\n",
        "\n",
        "training_df,validation_df,testing_df = df_final.randomSplit([0.6, 0.3, 0.1], seed=0)\n",
        "print(\"# training: \", training_df.count())\n",
        "print(\"# validation: \", validation_df.count())\n",
        "print(\"# testing: \", testing_df.count())"
      ]
    },
    {
      "cell_type": "code",
      "execution_count": null,
      "metadata": {
        "colab": {
          "base_uri": "https://localhost:8080/"
        },
        "id": "Qdq2cFrjxpgS",
        "outputId": "50133cae-6bf0-4938-9300-025a47da6bb8"
      },
      "outputs": [
        {
          "output_type": "stream",
          "name": "stdout",
          "text": [
            "+----------+-----------------+\n",
            "|readmitted|count(readmitted)|\n",
            "+----------+-----------------+\n",
            "|         1|            16673|\n",
            "|         0|            24428|\n",
            "+----------+-----------------+\n",
            "\n"
          ]
        }
      ],
      "source": [
        "# Checking if training_df split has equal proportion of readmitted patients\n",
        "training_df.groupBy('readmitted').agg(fn.count('readmitted')).show()"
      ]
    },
    {
      "cell_type": "markdown",
      "metadata": {
        "id": "ZRoGLzZtxuEx"
      },
      "source": [
        "Checking correlation among categorical variables and target variable to select the most important features for logistic regression"
      ]
    },
    {
      "cell_type": "code",
      "execution_count": null,
      "metadata": {
        "colab": {
          "base_uri": "https://localhost:8080/",
          "height": 796
        },
        "id": "aR7qrUkl4sdy",
        "outputId": "6ea75a23-eeb1-4863-cc54-ec80dfeee998"
      },
      "outputs": [
        {
          "output_type": "stream",
          "name": "stdout",
          "text": [
            "                           discharge_disp_home  ...  readmitted\n",
            "discharge_disp_home                   1.000000  ...   -0.024784\n",
            "discharge_disp_shortm_hos            -0.192184  ...    0.014003\n",
            "discharge_disp_snf                   -0.470527  ...    0.037253\n",
            "discharge_disp_icf                   -0.104754  ...   -0.005640\n",
            "discharge_disp_careInst              -0.146235  ...    0.017100\n",
            "discharge_disp_hhs                   -0.462118  ...    0.046457\n",
            "discharge_disp_ama                   -0.096184  ...   -0.004275\n",
            "discharge_disp_homeIvy               -0.041725  ...   -0.000382\n",
            "discharge_disp_admInp                -0.015229  ...   -0.001780\n",
            "discharge_disp_expired               -0.159386  ...   -0.104480\n",
            "discharge_disp_hospice               -0.078292  ...   -0.039311\n",
            "discharge_disp_medfac                -0.072349  ...   -0.040498\n",
            "discharge_disp_swingbed              -0.029822  ...    0.016070\n",
            "discharge_disp_rehab                 -0.182927  ...    0.027538\n",
            "discharge_disp_long                  -0.070992  ...   -0.012121\n",
            "discharge_disp_nursing               -0.023264  ...   -0.007194\n",
            "discharge_disp_federal               -0.008792  ...   -0.005763\n",
            "discharge_disp_psy                   -0.041725  ...    0.010107\n",
            "readmitted                           -0.024784  ...    1.000000\n",
            "\n",
            "[19 rows x 19 columns]\n"
          ]
        },
        {
          "output_type": "execute_result",
          "data": {
            "text/plain": [
              "<matplotlib.axes._subplots.AxesSubplot at 0x7f2dc36e9850>"
            ]
          },
          "metadata": {},
          "execution_count": 67
        },
        {
          "output_type": "display_data",
          "data": {
            "image/png": "[encoded data removed]",
            "text/plain": [
              "<Figure size 432x288 with 2 Axes>"
            ]
          },
          "metadata": {
            "needs_background": "light"
          }
        }
      ],
      "source": [
        "#  Checking correlation among categorical variables and target variable to select the most important features for logistic regression\n",
        "correlation_matrix =training_df.select( 'discharge_disp_home', 'discharge_disp_shortm_hos','discharge_disp_snf','discharge_disp_icf','discharge_disp_careInst','discharge_disp_hhs','discharge_disp_ama','discharge_disp_homeIvy','discharge_disp_admInp','discharge_disp_expired','discharge_disp_hospice','discharge_disp_medfac','discharge_disp_swingbed','discharge_disp_rehab', 'discharge_disp_long','discharge_disp_nursing','discharge_disp_federal','discharge_disp_psy','readmitted').toPandas().corr()\n",
        "print(correlation_matrix)\n",
        "sns.heatmap(correlation_matrix,square=True,cmap=\"Greens\")\n",
        "# Only discharge_disp_hhs and discharge_disp_expired are highly correlated with readmitted"
      ]
    },
    {
      "cell_type": "code",
      "execution_count": null,
      "metadata": {
        "colab": {
          "base_uri": "https://localhost:8080/",
          "height": 356
        },
        "id": "bNlJnG9gyCDJ",
        "outputId": "eadd39a9-8f9d-483b-dee8-e6c213df18cc"
      },
      "outputs": [
        {
          "output_type": "stream",
          "name": "stdout",
          "text": [
            "               change  diabetesMed  readmitted\n",
            "change       1.000000     0.506636    0.038982\n",
            "diabetesMed  0.506636     1.000000    0.067006\n",
            "readmitted   0.038982     0.067006    1.000000\n"
          ]
        },
        {
          "output_type": "execute_result",
          "data": {
            "text/plain": [
              "<matplotlib.axes._subplots.AxesSubplot at 0x7f2dc21f46d0>"
            ]
          },
          "metadata": {},
          "execution_count": 68
        },
        {
          "output_type": "display_data",
          "data": {
            "image/png": "[encoded data removed]",
            "text/plain": [
              "<Figure size 432x288 with 2 Axes>"
            ]
          },
          "metadata": {
            "needs_background": "light"
          }
        }
      ],
      "source": [
        "\n",
        "correlation_matrix=training_df.select('change','diabetesMed','readmitted').toPandas().corr()\n",
        "print(correlation_matrix)\n",
        "sns.heatmap(correlation_matrix,square=True,cmap=\"Greens\")\n",
        "# DiabetesMed is significantly correlated with target variable"
      ]
    },
    {
      "cell_type": "code",
      "execution_count": null,
      "metadata": {
        "colab": {
          "base_uri": "https://localhost:8080/",
          "height": 682
        },
        "id": "9V3rWP1fyGTj",
        "outputId": "4bf2d65f-378a-495a-d6b3-59be6d069709"
      },
      "outputs": [
        {
          "output_type": "stream",
          "name": "stdout",
          "text": [
            "                       admn_source_phyref  ...  readmitted\n",
            "admn_source_phyref               1.000000  ...   -0.031761\n",
            "admn_source_cliref              -0.074171  ...   -0.012421\n",
            "admn_source_hmoref              -0.029309  ...    0.002864\n",
            "admn_source_hos                 -0.124538  ...   -0.048415\n",
            "admn_source_snf                 -0.060163  ...   -0.009311\n",
            "admn_source_hlthcare            -0.099416  ...   -0.047318\n",
            "admn_source_emergency           -0.721072  ...    0.054562\n",
            "admn_source_court               -0.008019  ...   -0.005881\n",
            "admn_source_critical            -0.006548  ...   -0.003128\n",
            "admn_source_normdel                   NaN  ...         NaN\n",
            "admn_source_birth               -0.004630  ...   -0.005763\n",
            "admn_source_surgery             -0.004630  ...   -0.005763\n",
            "readmitted                      -0.031761  ...    1.000000\n",
            "\n",
            "[13 rows x 13 columns]\n"
          ]
        },
        {
          "output_type": "execute_result",
          "data": {
            "text/plain": [
              "<matplotlib.axes._subplots.AxesSubplot at 0x7f2dc35fa610>"
            ]
          },
          "metadata": {},
          "execution_count": 69
        },
        {
          "output_type": "display_data",
          "data": {
            "image/png": "[encoded data removed]",
            "text/plain": [
              "<Figure size 432x288 with 2 Axes>"
            ]
          },
          "metadata": {
            "needs_background": "light"
          }
        }
      ],
      "source": [
        "correlation_matrix=training_df.select('admn_source_phyref', 'admn_source_cliref', 'admn_source_hmoref','admn_source_hos','admn_source_snf','admn_source_hlthcare','admn_source_emergency','admn_source_court','admn_source_critical','admn_source_normdel','admn_source_birth','admn_source_surgery', 'readmitted' ).toPandas().corr()\n",
        "print(correlation_matrix)\n",
        "sns.heatmap(correlation_matrix,square=True,cmap=\"Greens\")\n",
        "#admission_source_emergency is significantly correlated"
      ]
    },
    {
      "cell_type": "code",
      "execution_count": null,
      "metadata": {
        "colab": {
          "base_uri": "https://localhost:8080/",
          "height": 597
        },
        "id": "c-wBWDpEyTxM",
        "outputId": "27b1f0e3-550b-4589-f104-73e896373388"
      },
      "outputs": [
        {
          "output_type": "stream",
          "name": "stdout",
          "text": [
            "                       diag1_Neoplasms  ...  readmitted\n",
            "diag1_Neoplasms               1.000000  ...   -0.022530\n",
            "diag1_Genitourinary          -0.092977  ...   -0.008588\n",
            "diag1_Musculoskeletal        -0.098448  ...   -0.015291\n",
            "diag1_Injury                 -0.108114  ...   -0.009946\n",
            "diag1_Diabetes               -0.115727  ...    0.023240\n",
            "diag1_Digestive              -0.127960  ...   -0.008779\n",
            "diag1_Respiratory            -0.160509  ...    0.013475\n",
            "diag1_Circulatory            -0.271281  ...    0.020692\n",
            "readmitted                   -0.022530  ...    1.000000\n",
            "\n",
            "[9 rows x 9 columns]\n"
          ]
        },
        {
          "output_type": "execute_result",
          "data": {
            "text/plain": [
              "<matplotlib.axes._subplots.AxesSubplot at 0x7f2de0671b10>"
            ]
          },
          "metadata": {},
          "execution_count": 70
        },
        {
          "output_type": "display_data",
          "data": {
            "image/png": "[encoded data removed]",
            "text/plain": [
              "<Figure size 432x288 with 2 Axes>"
            ]
          },
          "metadata": {
            "needs_background": "light"
          }
        }
      ],
      "source": [
        "correlation_matrix=training_df.select('diag1_Neoplasms','diag1_Genitourinary','diag1_Musculoskeletal','diag1_Injury','diag1_Diabetes','diag1_Digestive','diag1_Respiratory','diag1_Circulatory','readmitted' ).toPandas().corr()\n",
        "print(correlation_matrix)\n",
        "sns.heatmap(correlation_matrix,square=True,cmap=\"Greens\")\n",
        "\n",
        "#None of the diagnosis is significantly correlated"
      ]
    },
    {
      "cell_type": "code",
      "execution_count": null,
      "metadata": {
        "colab": {
          "base_uri": "https://localhost:8080/",
          "height": 532
        },
        "id": "df71p-pryWoD",
        "outputId": "1e32061f-f45e-4a66-e6f6-cfa2d5c68aa7"
      },
      "outputs": [
        {
          "output_type": "stream",
          "name": "stdout",
          "text": [
            "                     admn_type_emergency  ...  readmitted\n",
            "admn_type_emergency             1.000000  ...    0.007656\n",
            "admn_type_urgent               -0.474642  ...    0.005791\n",
            "admn_type_elective             -0.505718  ...   -0.050181\n",
            "admn_type_trauma               -0.019551  ...   -0.015786\n",
            "readmitted                      0.007656  ...    1.000000\n",
            "\n",
            "[5 rows x 5 columns]\n"
          ]
        },
        {
          "output_type": "execute_result",
          "data": {
            "text/plain": [
              "<matplotlib.axes._subplots.AxesSubplot at 0x7f2dc35fa2d0>"
            ]
          },
          "metadata": {},
          "execution_count": 71
        },
        {
          "output_type": "display_data",
          "data": {
            "image/png": "[encoded data removed]",
            "text/plain": [
              "<Figure size 432x288 with 2 Axes>"
            ]
          },
          "metadata": {
            "needs_background": "light"
          }
        }
      ],
      "source": [
        "correlation_matrix=training_df.select('admn_type_emergency','admn_type_urgent','admn_type_elective', 'admn_type_trauma','readmitted' ).toPandas().corr()\n",
        "print(correlation_matrix)\n",
        "sns.heatmap(correlation_matrix,square=True,cmap=\"Greens\")\n",
        "#None of the adminision type is correlated"
      ]
    },
    {
      "cell_type": "code",
      "execution_count": null,
      "metadata": {
        "colab": {
          "base_uri": "https://localhost:8080/",
          "height": 488
        },
        "id": "0kHCLD2lyryE",
        "outputId": "3c1c6893-d705-40ce-d8e6-82bd0f32d2c3"
      },
      "outputs": [
        {
          "output_type": "stream",
          "name": "stdout",
          "text": [
            "                insulin_No  insulin_Up  ...  insulin_Down  readmitted\n",
            "insulin_No        1.000000   -0.323287  ...     -0.337824   -0.036088\n",
            "insulin_Up       -0.323287    1.000000  ...     -0.112631    0.023202\n",
            "insulin_Steady   -0.652489   -0.217540  ...     -0.227322    0.005492\n",
            "insulin_Down     -0.337824   -0.112631  ...      1.000000    0.028139\n",
            "readmitted       -0.036088    0.023202  ...      0.028139    1.000000\n",
            "\n",
            "[5 rows x 5 columns]\n"
          ]
        },
        {
          "output_type": "execute_result",
          "data": {
            "text/plain": [
              "<matplotlib.axes._subplots.AxesSubplot at 0x7f2dceeb4790>"
            ]
          },
          "metadata": {},
          "execution_count": 72
        },
        {
          "output_type": "display_data",
          "data": {
            "image/png": "[encoded data removed]",
            "text/plain": [
              "<Figure size 432x288 with 2 Axes>"
            ]
          },
          "metadata": {
            "needs_background": "light"
          }
        }
      ],
      "source": [
        "correlation_matrix=training_df.select('insulin_No',\n",
        " 'insulin_Up','insulin_Steady', 'insulin_Down','readmitted').toPandas().corr()\n",
        "print(correlation_matrix)\n",
        "sns.heatmap(correlation_matrix,square=True,cmap=\"Greens\")\n",
        "# insulin_No, insulin_Up and insulin_down are significantly correlated with target variable"
      ]
    },
    {
      "cell_type": "code",
      "execution_count": null,
      "metadata": {
        "colab": {
          "base_uri": "https://localhost:8080/",
          "height": 606
        },
        "id": "HLbLH7DdzTh_",
        "outputId": "d0d78c73-935e-4dd9-b64e-e23d865ac25c"
      },
      "outputs": [
        {
          "output_type": "stream",
          "name": "stdout",
          "text": [
            "                         age  time_in_hospital  ...  number_diagnoses  readmitted\n",
            "age                 1.000000          0.115789  ...          0.209077    0.053931\n",
            "time_in_hospital    0.115789          1.000000  ...          0.221756    0.055726\n",
            "num_lab_procedures  0.030249          0.330312  ...          0.153114    0.045527\n",
            "num_procedures     -0.039837          0.181814  ...          0.072145   -0.031230\n",
            "num_medications     0.028603          0.458919  ...          0.230886    0.032056\n",
            "number_outpatient   0.020063         -0.017587  ...          0.070505    0.061965\n",
            "number_emergency   -0.052892         -0.010742  ...          0.048831    0.073375\n",
            "number_inpatient    0.016382          0.065565  ...          0.064160    0.141347\n",
            "number_diagnoses    0.209077          0.221756  ...          1.000000    0.100654\n",
            "readmitted          0.053931          0.055726  ...          0.100654    1.000000\n",
            "\n",
            "[10 rows x 10 columns]\n"
          ]
        },
        {
          "output_type": "execute_result",
          "data": {
            "text/plain": [
              "<matplotlib.axes._subplots.AxesSubplot at 0x7f2dcf333710>"
            ]
          },
          "metadata": {},
          "execution_count": 73
        },
        {
          "output_type": "display_data",
          "data": {
            "image/png": "[encoded data removed]",
            "text/plain": [
              "<Figure size 432x288 with 2 Axes>"
            ]
          },
          "metadata": {
            "needs_background": "light"
          }
        }
      ],
      "source": [
        "correlation_matrix=training_df.select('age','time_in_hospital','num_lab_procedures','num_procedures','num_medications','number_outpatient',\n",
        "                              'number_emergency','number_inpatient','number_diagnoses','readmitted' ).toPandas().corr()\n",
        "print(correlation_matrix)\n",
        "sns.heatmap(correlation_matrix,square=True,cmap=\"Greens\")\n",
        "#almost all are somewhat related to target variable 'readmitted'"
      ]
    },
    {
      "cell_type": "code",
      "source": [
        "correlation_matrix=training_df.select('max_glu_200','max_glu_300','max_glu_norm','readmitted' ).toPandas().corr()\n",
        "print(correlation_matrix)\n",
        "sns.heatmap(correlation_matrix,square=True,cmap=\"Greens\")\n",
        "#none of the feature related to target variable 'readmitted'"
      ],
      "metadata": {
        "colab": {
          "base_uri": "https://localhost:8080/",
          "height": 437
        },
        "id": "0vQJIhKa-WWH",
        "outputId": "e71bbc43-440d-4c23-bb0a-dac66b7d6853"
      },
      "execution_count": null,
      "outputs": [
        {
          "output_type": "stream",
          "name": "stdout",
          "text": [
            "              max_glu_200  max_glu_300  max_glu_norm  readmitted\n",
            "max_glu_200      1.000000    -0.012826     -0.018790    0.012001\n",
            "max_glu_300     -0.012826     1.000000     -0.016691    0.014639\n",
            "max_glu_norm    -0.018790    -0.016691      1.000000    0.007807\n",
            "readmitted       0.012001     0.014639      0.007807    1.000000\n"
          ]
        },
        {
          "output_type": "execute_result",
          "data": {
            "text/plain": [
              "<matplotlib.axes._subplots.AxesSubplot at 0x7f2dc337e9d0>"
            ]
          },
          "metadata": {},
          "execution_count": 95
        },
        {
          "output_type": "display_data",
          "data": {
            "image/png": "[encoded data removed]",
            "text/plain": [
              "<Figure size 432x288 with 2 Axes>"
            ]
          },
          "metadata": {
            "needs_background": "light"
          }
        }
      ]
    },
    {
      "cell_type": "code",
      "execution_count": null,
      "metadata": {
        "colab": {
          "base_uri": "https://localhost:8080/",
          "height": 433
        },
        "id": "8CPyrqOCzWth",
        "outputId": "905f8ec9-cd8d-4c84-f666-cd7b20b62603"
      },
      "outputs": [
        {
          "output_type": "stream",
          "name": "stdout",
          "text": [
            "Collecting git+https://github.com/daniel-acuna/pyspark_pipes.git\n",
            "  Cloning https://github.com/daniel-acuna/pyspark_pipes.git to /tmp/pip-req-build-ol4iq0on\n",
            "  Running command git clone -q https://github.com/daniel-acuna/pyspark_pipes.git /tmp/pip-req-build-ol4iq0on\n",
            "Collecting pyspark\n",
            "  Downloading pyspark-3.2.0.tar.gz (281.3 MB)\n",
            "\u001b[K     |████████████████████████████████| 281.3 MB 47 kB/s \n",
            "\u001b[?25hCollecting py4j==0.10.9.2\n",
            "  Downloading py4j-0.10.9.2-py2.py3-none-any.whl (198 kB)\n",
            "\u001b[K     |████████████████████████████████| 198 kB 39.0 MB/s \n",
            "\u001b[?25hBuilding wheels for collected packages: pyspark-pipes, pyspark\n",
            "  Building wheel for pyspark-pipes (setup.py) ... \u001b[?25l\u001b[?25hdone\n",
            "  Created wheel for pyspark-pipes: filename=pyspark_pipes-0.1-py3-none-any.whl size=3911 sha256=c123a1168add007cae90f22e88e3e9f7d43cddbc54c456a7c95f2934aad119b8\n",
            "  Stored in directory: /tmp/pip-ephem-wheel-cache-kz5ybjsa/wheels/00/93/7d/817aa49ad2e3d17282ee8dde3a9f738a88e7caae14032bc2ed\n",
            "  Building wheel for pyspark (setup.py) ... \u001b[?25l\u001b[?25hdone\n",
            "  Created wheel for pyspark: filename=pyspark-3.2.0-py2.py3-none-any.whl size=281805912 sha256=4a440efe353492423efbdd51bffbe6a85bd579d2514060c8d0848f100fbb9617\n",
            "  Stored in directory: /root/.cache/pip/wheels/0b/de/d2/9be5d59d7331c6c2a7c1b6d1a4f463ce107332b1ecd4e80718\n",
            "Successfully built pyspark-pipes pyspark\n",
            "Installing collected packages: py4j, pyspark, pyspark-pipes\n",
            "Successfully installed py4j-0.10.9.2 pyspark-3.2.0 pyspark-pipes-0.1\n"
          ]
        },
        {
          "output_type": "display_data",
          "data": {
            "application/vnd.colab-display-data+json": {
              "pip_warning": {
                "packages": [
                  "py4j",
                  "pyspark"
                ]
              }
            }
          },
          "metadata": {}
        }
      ],
      "source": [
        "#For classification Models\n",
        "!pip install git+https://github.com/daniel-acuna/pyspark_pipes.git\n",
        "from pyspark_pipes import pipe"
      ]
    },
    {
      "cell_type": "markdown",
      "metadata": {
        "id": "pv6oj1OuzZm1"
      },
      "source": [
        "#Logistic Regression with important features and w/o parameter tuning"
      ]
    },
    {
      "cell_type": "code",
      "execution_count": null,
      "metadata": {
        "id": "nuv05kXpzgXV"
      },
      "outputs": [],
      "source": [
        "featurelist=['time_in_hospital','number_emergency','number_outpatient','number_inpatient',\n",
        "                                        'num_medications','number_diagnoses','age','discharge_disp_hhs','discharge_disp_expired','diabetesMed','insulin_No','insulin_Up','insulin_Down','admn_source_emergency']"
      ]
    },
    {
      "cell_type": "code",
      "execution_count": null,
      "metadata": {
        "id": "7rHrJocIz3Oc"
      },
      "outputs": [],
      "source": [
        "lr = Pipeline(stages=[feature.VectorAssembler(inputCols=featurelist,\n",
        "                                        outputCol='features'),feature.StandardScaler(inputCol='features',outputCol = 'sdfeatures'),\n",
        "                 classification.LogisticRegression(labelCol='readmitted', featuresCol='sdfeatures')])"
      ]
    },
    {
      "cell_type": "code",
      "execution_count": null,
      "metadata": {
        "id": "GZUMNJdMz6rB"
      },
      "outputs": [],
      "source": [
        "# Fitting the model on training_df\n",
        "pipe_model =lr.fit(training_df)"
      ]
    },
    {
      "cell_type": "code",
      "execution_count": null,
      "metadata": {
        "colab": {
          "base_uri": "https://localhost:8080/"
        },
        "id": "MYOx9fjIz-CF",
        "outputId": "2dfc29c0-cf51-49bc-e45c-1c9617bc5fca"
      },
      "outputs": [
        {
          "output_type": "stream",
          "name": "stdout",
          "text": [
            "+----------+----------+\n",
            "|readmitted|prediction|\n",
            "+----------+----------+\n",
            "|         0|       0.0|\n",
            "|         0|       0.0|\n",
            "|         0|       0.0|\n",
            "|         0|       0.0|\n",
            "|         0|       0.0|\n",
            "|         0|       0.0|\n",
            "|         0|       0.0|\n",
            "|         1|       0.0|\n",
            "|         0|       0.0|\n",
            "|         0|       0.0|\n",
            "|         0|       0.0|\n",
            "|         1|       0.0|\n",
            "|         0|       0.0|\n",
            "|         0|       0.0|\n",
            "|         1|       0.0|\n",
            "|         1|       0.0|\n",
            "|         1|       0.0|\n",
            "|         0|       0.0|\n",
            "|         1|       0.0|\n",
            "|         0|       0.0|\n",
            "+----------+----------+\n",
            "only showing top 20 rows\n",
            "\n"
          ]
        }
      ],
      "source": [
        "pipe_modeldf = pipe_model.transform(validation_df).select(\"readmitted\",\"prediction\")\n",
        "pipe_modeldf.show()"
      ]
    },
    {
      "cell_type": "code",
      "execution_count": null,
      "metadata": {
        "colab": {
          "base_uri": "https://localhost:8080/"
        },
        "id": "spPAo-Gy0BBI",
        "outputId": "75200fc9-5ea7-46cb-b223-320cff0d8639"
      },
      "outputs": [
        {
          "output_type": "stream",
          "name": "stdout",
          "text": [
            "True Positives: 1688\n",
            "True Negatives: 10987\n",
            "False Positives: 1223\n",
            "False Negatives: 6505\n",
            "Total 68357\n",
            "Sensitivity (Recall): How sensitive is the classifier to detecting positive instances? 0.20602953740998414\n",
            "precision 0.5798694606664376\n"
          ]
        }
      ],
      "source": [
        "# Confusion matrix for logistic regression\n",
        "tp = pipe_modeldf[(pipe_modeldf.readmitted == 1) & (pipe_modeldf.prediction == 1)].count()\n",
        "tn = pipe_modeldf[(pipe_modeldf.readmitted == 0) & (pipe_modeldf.prediction == 0)].count()\n",
        "fp = pipe_modeldf[(pipe_modeldf.readmitted == 0) & (pipe_modeldf.prediction == 1)].count()\n",
        "fn = pipe_modeldf[(pipe_modeldf.readmitted == 1) & (pipe_modeldf.prediction == 0)].count()\n",
        "print (\"True Positives:\", tp)\n",
        "print (\"True Negatives:\", tn)\n",
        "print (\"False Positives:\", fp)\n",
        "print (\"False Negatives:\", fn)\n",
        "print (\"Total\", df_final.count())\n",
        "\n",
        "r = (tp)/(tp + fn)\n",
        "print (\"Sensitivity (Recall): How sensitive is the classifier to detecting positive instances?\", r)\n",
        "p = float(tp) / (tp + fp)\n",
        "print (\"precision\", p)"
      ]
    },
    {
      "cell_type": "markdown",
      "metadata": {
        "id": "6mWANBT40fJ8"
      },
      "source": [
        "Looking at the recall value we can say that the model correctly predicts only 20% of readmitted cases (positives)"
      ]
    },
    {
      "cell_type": "code",
      "execution_count": null,
      "metadata": {
        "colab": {
          "base_uri": "https://localhost:8080/"
        },
        "id": "Ud1uCUag0mkD",
        "outputId": "6887cd7b-b08a-47f2-d513-a0b5636420a2"
      },
      "outputs": [
        {
          "output_type": "stream",
          "name": "stdout",
          "text": [
            "specificity 0.8998361998361999\n"
          ]
        }
      ],
      "source": [
        "#calculate specificity\n",
        "specificity = tn/(tn+fp)\n",
        "print(\"specificity\",specificity)"
      ]
    },
    {
      "cell_type": "markdown",
      "metadata": {
        "id": "wYDbtbSA0onP"
      },
      "source": [
        "But the model correctly predicts .89% of people who will not require readmittance correctly."
      ]
    },
    {
      "cell_type": "code",
      "execution_count": null,
      "metadata": {
        "colab": {
          "base_uri": "https://localhost:8080/"
        },
        "id": "mWOfqHF60vmB",
        "outputId": "bcd1cb6a-7fb9-47b3-d8cf-37a4dbb13c69"
      },
      "outputs": [
        {
          "output_type": "execute_result",
          "data": {
            "text/plain": [
              "0.6258116859911068"
            ]
          },
          "metadata": {},
          "execution_count": 81
        }
      ],
      "source": [
        "from pyspark.ml import evaluation\n",
        "evaluator = evaluation.BinaryClassificationEvaluator(labelCol='readmitted')\n",
        "evaluator.evaluate(pipe_model.transform(validation_df))\n"
      ]
    },
    {
      "cell_type": "code",
      "execution_count": null,
      "metadata": {
        "colab": {
          "base_uri": "https://localhost:8080/",
          "height": 362
        },
        "id": "tdJBMs6z01ii",
        "outputId": "b7e890c8-b9b9-4499-d5b5-ce277fc1a615"
      },
      "outputs": [
        {
          "output_type": "execute_result",
          "data": {
            "text/html": [
              "<div>\n",
              "<style scoped>\n",
              "    .dataframe tbody tr th:only-of-type {\n",
              "        vertical-align: middle;\n",
              "    }\n",
              "\n",
              "    .dataframe tbody tr th {\n",
              "        vertical-align: top;\n",
              "    }\n",
              "\n",
              "    .dataframe thead th {\n",
              "        text-align: right;\n",
              "    }\n",
              "</style>\n",
              "<table border=\"1\" class=\"dataframe\">\n",
              "  <thead>\n",
              "    <tr style=\"text-align: right;\">\n",
              "      <th></th>\n",
              "      <th>column</th>\n",
              "      <th>Coefficients</th>\n",
              "    </tr>\n",
              "  </thead>\n",
              "  <tbody>\n",
              "    <tr>\n",
              "      <th>3</th>\n",
              "      <td>number_inpatient</td>\n",
              "      <td>0.301480</td>\n",
              "    </tr>\n",
              "    <tr>\n",
              "      <th>5</th>\n",
              "      <td>number_diagnoses</td>\n",
              "      <td>0.151180</td>\n",
              "    </tr>\n",
              "    <tr>\n",
              "      <th>9</th>\n",
              "      <td>diabetesMed</td>\n",
              "      <td>0.133622</td>\n",
              "    </tr>\n",
              "    <tr>\n",
              "      <th>1</th>\n",
              "      <td>number_emergency</td>\n",
              "      <td>0.120226</td>\n",
              "    </tr>\n",
              "    <tr>\n",
              "      <th>13</th>\n",
              "      <td>admn_source_emergency</td>\n",
              "      <td>0.097529</td>\n",
              "    </tr>\n",
              "    <tr>\n",
              "      <th>2</th>\n",
              "      <td>number_outpatient</td>\n",
              "      <td>0.095632</td>\n",
              "    </tr>\n",
              "    <tr>\n",
              "      <th>6</th>\n",
              "      <td>age</td>\n",
              "      <td>0.091321</td>\n",
              "    </tr>\n",
              "    <tr>\n",
              "      <th>0</th>\n",
              "      <td>time_in_hospital</td>\n",
              "      <td>0.052513</td>\n",
              "    </tr>\n",
              "    <tr>\n",
              "      <th>10</th>\n",
              "      <td>insulin_No</td>\n",
              "      <td>0.045890</td>\n",
              "    </tr>\n",
              "    <tr>\n",
              "      <th>7</th>\n",
              "      <td>discharge_disp_hhs</td>\n",
              "      <td>0.040482</td>\n",
              "    </tr>\n",
              "  </tbody>\n",
              "</table>\n",
              "</div>"
            ],
            "text/plain": [
              "                   column  Coefficients\n",
              "3        number_inpatient      0.301480\n",
              "5        number_diagnoses      0.151180\n",
              "9             diabetesMed      0.133622\n",
              "1        number_emergency      0.120226\n",
              "13  admn_source_emergency      0.097529\n",
              "2       number_outpatient      0.095632\n",
              "6                     age      0.091321\n",
              "0        time_in_hospital      0.052513\n",
              "10             insulin_No      0.045890\n",
              "7      discharge_disp_hhs      0.040482"
            ]
          },
          "metadata": {},
          "execution_count": 82
        }
      ],
      "source": [
        "# Checking the coefficients\n",
        "pd.DataFrame(list(zip(featurelist, pipe_model.stages[-1].coefficients.toArray())),\n",
        "            columns = ['column', 'Coefficients']).sort_values('Coefficients',ascending = False).head(10)"
      ]
    },
    {
      "cell_type": "code",
      "execution_count": null,
      "metadata": {
        "colab": {
          "base_uri": "https://localhost:8080/",
          "height": 753
        },
        "id": "x8Vxz-2C0_lk",
        "outputId": "1d338afa-2b4e-4d69-8cf2-304217117469"
      },
      "outputs": [
        {
          "output_type": "stream",
          "name": "stderr",
          "text": [
            "/content/spark-3.2.0-bin-hadoop3.2/python/pyspark/sql/context.py:127: FutureWarning: Deprecated in 3.0.0. Use SparkSession.builder.getOrCreate() instead.\n",
            "  FutureWarning\n"
          ]
        },
        {
          "output_type": "display_data",
          "data": {
            "image/png": "[encoded data removed]",
            "text/plain": [
              "<Figure size 432x288 with 1 Axes>"
            ]
          },
          "metadata": {
            "needs_background": "light"
          }
        },
        {
          "output_type": "stream",
          "name": "stdout",
          "text": [
            "Training set areaUnderROC: 0.6314837086158123\n"
          ]
        },
        {
          "output_type": "execute_result",
          "data": {
            "text/html": [
              "<div>\n",
              "<style scoped>\n",
              "    .dataframe tbody tr th:only-of-type {\n",
              "        vertical-align: middle;\n",
              "    }\n",
              "\n",
              "    .dataframe tbody tr th {\n",
              "        vertical-align: top;\n",
              "    }\n",
              "\n",
              "    .dataframe thead th {\n",
              "        text-align: right;\n",
              "    }\n",
              "</style>\n",
              "<table border=\"1\" class=\"dataframe\">\n",
              "  <thead>\n",
              "    <tr style=\"text-align: right;\">\n",
              "      <th></th>\n",
              "      <th>FPR</th>\n",
              "      <th>TPR</th>\n",
              "    </tr>\n",
              "  </thead>\n",
              "  <tbody>\n",
              "    <tr>\n",
              "      <th>0</th>\n",
              "      <td>0.000000</td>\n",
              "      <td>0.000000</td>\n",
              "    </tr>\n",
              "    <tr>\n",
              "      <th>1</th>\n",
              "      <td>0.000205</td>\n",
              "      <td>0.001619</td>\n",
              "    </tr>\n",
              "    <tr>\n",
              "      <th>2</th>\n",
              "      <td>0.000287</td>\n",
              "      <td>0.003419</td>\n",
              "    </tr>\n",
              "    <tr>\n",
              "      <th>3</th>\n",
              "      <td>0.000696</td>\n",
              "      <td>0.004738</td>\n",
              "    </tr>\n",
              "    <tr>\n",
              "      <th>4</th>\n",
              "      <td>0.000982</td>\n",
              "      <td>0.006238</td>\n",
              "    </tr>\n",
              "    <tr>\n",
              "      <th>...</th>\n",
              "      <td>...</td>\n",
              "      <td>...</td>\n",
              "    </tr>\n",
              "    <tr>\n",
              "      <th>1026</th>\n",
              "      <td>0.996479</td>\n",
              "      <td>1.000000</td>\n",
              "    </tr>\n",
              "    <tr>\n",
              "      <th>1027</th>\n",
              "      <td>0.997789</td>\n",
              "      <td>1.000000</td>\n",
              "    </tr>\n",
              "    <tr>\n",
              "      <th>1028</th>\n",
              "      <td>0.999099</td>\n",
              "      <td>1.000000</td>\n",
              "    </tr>\n",
              "    <tr>\n",
              "      <th>1029</th>\n",
              "      <td>1.000000</td>\n",
              "      <td>1.000000</td>\n",
              "    </tr>\n",
              "    <tr>\n",
              "      <th>1030</th>\n",
              "      <td>1.000000</td>\n",
              "      <td>1.000000</td>\n",
              "    </tr>\n",
              "  </tbody>\n",
              "</table>\n",
              "<p>1031 rows × 2 columns</p>\n",
              "</div>"
            ],
            "text/plain": [
              "           FPR       TPR\n",
              "0     0.000000  0.000000\n",
              "1     0.000205  0.001619\n",
              "2     0.000287  0.003419\n",
              "3     0.000696  0.004738\n",
              "4     0.000982  0.006238\n",
              "...        ...       ...\n",
              "1026  0.996479  1.000000\n",
              "1027  0.997789  1.000000\n",
              "1028  0.999099  1.000000\n",
              "1029  1.000000  1.000000\n",
              "1030  1.000000  1.000000\n",
              "\n",
              "[1031 rows x 2 columns]"
            ]
          },
          "metadata": {},
          "execution_count": 83
        }
      ],
      "source": [
        "trainingSummary = pipe_model.stages[-1].summary\n",
        "roc = trainingSummary.roc.toPandas()\n",
        "plt.plot(roc['FPR'],roc['TPR'])\n",
        "plt.ylabel('True Positive Rate')\n",
        "plt.xlabel('False Positive Rate')\n",
        "plt.title('ROC Curve')\n",
        "plt.show()\n",
        "print('Training set areaUnderROC: ' + str(trainingSummary.areaUnderROC))\n",
        "roc"
      ]
    },
    {
      "cell_type": "code",
      "execution_count": null,
      "metadata": {
        "colab": {
          "base_uri": "https://localhost:8080/",
          "height": 313
        },
        "id": "k0zQXQb11U5m",
        "outputId": "8b158922-a29f-4269-8ef3-773753dfa051"
      },
      "outputs": [
        {
          "output_type": "stream",
          "name": "stderr",
          "text": [
            "/content/spark-3.2.0-bin-hadoop3.2/python/pyspark/sql/context.py:127: FutureWarning: Deprecated in 3.0.0. Use SparkSession.builder.getOrCreate() instead.\n",
            "  FutureWarning\n"
          ]
        },
        {
          "output_type": "display_data",
          "data": {
            "image/png": "[encoded data removed]",
            "text/plain": [
              "<Figure size 432x288 with 1 Axes>"
            ]
          },
          "metadata": {
            "needs_background": "light"
          }
        }
      ],
      "source": [
        "pr = trainingSummary.pr.toPandas()\n",
        "plt.plot(pr['recall'],pr['precision'])\n",
        "plt.ylabel('Precision')\n",
        "plt.xlabel('Recall')\n",
        "plt.show()"
      ]
    },
    {
      "cell_type": "markdown",
      "metadata": {
        "id": "SMGsphlY1YSD"
      },
      "source": [
        "#Logistic model with Regularization and cross validation"
      ]
    },
    {
      "cell_type": "code",
      "execution_count": null,
      "metadata": {
        "id": "XDdu-sdL1cFG"
      },
      "outputs": [],
      "source": [
        "from pyspark.ml import evaluation\n",
        "\n",
        "\n",
        "va =feature.VectorAssembler(inputCols=featurelist ,  outputCol='features')\n",
        "sd = feature.StandardScaler(inputCol='features',outputCol = 'sdfeatures')\n",
        "# Create initial LogisticRegression model\n",
        "lr = classification.LogisticRegression(labelCol='readmitted', featuresCol='sdfeatures')\n",
        "pipe_model2 = Pipeline(stages=[va,sd, lr])\n",
        "# Create ParamGrid for Cross Validation\n",
        "paramGrid = (ParamGridBuilder()\n",
        "             .addGrid(lr.regParam, [0.1, 0.3, 0.5]).addGrid(lr.elasticNetParam, [0.2, 0.8, 0.5]).addGrid(lr.maxIter, [15, 30, 50]).build())\n",
        "# Evaluate model\n",
        "evaluator = evaluation.BinaryClassificationEvaluator(labelCol='readmitted')\n",
        "# Create 3-fold CrossValidator\n",
        "cv = CrossValidator(estimator=pipe_model2,estimatorParamMaps=paramGrid, evaluator=evaluator, numFolds=3)"
      ]
    },
    {
      "cell_type": "code",
      "execution_count": null,
      "metadata": {
        "id": "BBAENiPH1hXn"
      },
      "outputs": [],
      "source": [
        "# Run cross validations and fitting the model on training_df\n",
        "cvModel = cv.fit(training_df)\n",
        "# cvModel uses the best model found from the Cross Validation"
      ]
    },
    {
      "cell_type": "code",
      "source": [
        "#accuracy\n",
        "evaluator.evaluate(cvModel.transform(validation_df))"
      ],
      "metadata": {
        "colab": {
          "base_uri": "https://localhost:8080/"
        },
        "id": "Zr8o3JRypu56",
        "outputId": "474554a4-27a7-4879-edb6-df96c461dedf"
      },
      "execution_count": null,
      "outputs": [
        {
          "output_type": "execute_result",
          "data": {
            "text/plain": [
              "0.6137939210806294"
            ]
          },
          "metadata": {},
          "execution_count": 88
        }
      ]
    },
    {
      "cell_type": "code",
      "execution_count": null,
      "metadata": {
        "colab": {
          "base_uri": "https://localhost:8080/"
        },
        "id": "fDWGEHsn1mZp",
        "outputId": "54f33acc-afe0-4d47-a7e4-c4ee020a7b45"
      },
      "outputs": [
        {
          "output_type": "stream",
          "name": "stdout",
          "text": [
            "0.1\n",
            "0.2\n",
            "50\n"
          ]
        }
      ],
      "source": [
        "param_dict = cvModel.bestModel.stages[-1].extractParamMap()\n",
        "\n",
        "sane_dict = {}\n",
        "for k, v in param_dict.items():\n",
        "    #print(k)\n",
        "    sane_dict[k.name] = v\n",
        "\n",
        "best_reg = sane_dict[\"regParam\"]\n",
        "best_elastic_net = sane_dict[\"elasticNetParam\"]\n",
        "best_max_iter = sane_dict[\"maxIter\"]\n",
        "print(best_reg)\n",
        "print(best_elastic_net)\n",
        "print(best_max_iter)"
      ]
    },
    {
      "cell_type": "markdown",
      "metadata": {
        "id": "yB6dyh_G1piA"
      },
      "source": [
        "# Gradient Boosting with Cross-validation and Hyper-parameter tuning"
      ]
    },
    {
      "cell_type": "code",
      "execution_count": null,
      "metadata": {
        "id": "qduK3zfM1uwl"
      },
      "outputs": [],
      "source": [
        "\n",
        "from pyspark.ml import evaluation\n",
        "\n",
        "\n",
        "gbt_featlist=['number_inpatient','number_outpatient','time_in_hospital','number_emergency','num_procedures','num_lab_procedures','num_medications','number_diagnoses','age','admn_source_phyref','admn_source_cliref',\n",
        "'admn_source_hmoref','admn_source_hos','admn_source_snf','admn_source_hlthcare','admn_source_emergency', 'admn_source_court', 'admn_source_critical',\n",
        "'admn_source_normdel', 'admn_source_birth', 'admn_source_surgery','rc_AfricanAmerican','rc_Asian','rc_Caucasian','rc_Hispanic','discharge_disp_home','discharge_disp_shortm_hos','discharge_disp_snf','discharge_disp_icf','discharge_disp_careInst','discharge_disp_hhs','discharge_disp_ama','discharge_disp_homeIvy','discharge_disp_admInp','discharge_disp_expired',\n",
        "'discharge_disp_hospice','discharge_disp_medfac','discharge_disp_swingbed','discharge_disp_rehab','discharge_disp_long','discharge_disp_nursing','discharge_disp_federal','discharge_disp_psy','diag1_Circulatory','diag1_Respiratory','diag1_Digestive','diag1_Diabetes','diag1_Injury','diag1_Musculoskeletal','diag1_Genitourinary','diag1_Neoplasms',\n",
        "'max_glu_200','max_glu_300','max_glu_norm','A1C_7','A1C_8','A1C_norm', 'insulin_No','insulin_Up','insulin_Steady','insulin_Down']\n",
        "\n",
        "va =feature.VectorAssembler(inputCols= gbt_featlist ,  outputCol='features')\n",
        "sd = feature.StandardScaler(inputCol='features',outputCol = 'sdfeatures')\n",
        "gbt = classification.GBTClassifier(labelCol='readmitted', featuresCol='sdfeatures')\n",
        "GBT_model_pipeline  = Pipeline(stages=[va,sd,gbt])\n",
        "\n",
        "paramGrid = ParamGridBuilder().addGrid(gbt.maxDepth, [4, 6]).addGrid(gbt.maxBins, [20, 40]).addGrid(gbt.maxIter, [10, 20]) .build()\n",
        "\n",
        "\n",
        "evaluator = evaluation.BinaryClassificationEvaluator(labelCol='readmitted')\n",
        "\n",
        "cv = CrossValidator(estimator=GBT_model_pipeline,estimatorParamMaps=paramGrid, evaluator=evaluator, numFolds=3)"
      ]
    },
    {
      "cell_type": "code",
      "execution_count": null,
      "metadata": {
        "id": "BoXJL4Fh1w7k"
      },
      "outputs": [],
      "source": [
        "cvModel_gbt = cv.fit(training_df)"
      ]
    },
    {
      "cell_type": "code",
      "execution_count": null,
      "metadata": {
        "id": "y02h8EbO1zFA"
      },
      "outputs": [],
      "source": [
        "predictions_gbt = cvModel_gbt.transform(validation_df)\n",
        "predictions_gbt = predictions_gbt.withColumn('label',predictions_gbt.readmitted)"
      ]
    },
    {
      "cell_type": "code",
      "execution_count": null,
      "metadata": {
        "colab": {
          "base_uri": "https://localhost:8080/"
        },
        "id": "LV195OIr190P",
        "outputId": "0fa90ec9-090d-40bd-dea4-8e0096bf553d"
      },
      "outputs": [
        {
          "output_type": "execute_result",
          "data": {
            "text/plain": [
              "0.6439470711349141"
            ]
          },
          "metadata": {},
          "execution_count": 99
        }
      ],
      "source": [
        "#accuracy\n",
        "evaluator.evaluate(predictions_gbt)"
      ]
    },
    {
      "cell_type": "code",
      "execution_count": null,
      "metadata": {
        "colab": {
          "base_uri": "https://localhost:8080/"
        },
        "id": "dd2DARO8WkAL",
        "outputId": "929518d0-34c0-42a2-ee54-80d391d626b9"
      },
      "outputs": [
        {
          "output_type": "stream",
          "name": "stdout",
          "text": [
            "True Positives: 2299\n",
            "True Negatives: 10559\n",
            "False Positives: 1651\n",
            "False Negatives: 5894\n"
          ]
        }
      ],
      "source": [
        "# Confusion matrix for GBT\n",
        "tp = predictions_gbt[(predictions_gbt.readmitted == 1) & (predictions_gbt.prediction == 1)].count()\n",
        "tn = predictions_gbt[(predictions_gbt.readmitted == 0) & (predictions_gbt.prediction == 0)].count()\n",
        "fp = predictions_gbt[(predictions_gbt.readmitted == 0) & (predictions_gbt.prediction == 1)].count()\n",
        "fn = predictions_gbt[(predictions_gbt.readmitted == 1) & (predictions_gbt.prediction == 0)].count()\n",
        "print (\"True Positives:\", tp)\n",
        "print (\"True Negatives:\", tn)\n",
        "print (\"False Positives:\", fp)\n",
        "print (\"False Negatives:\", fn)\n"
      ]
    },
    {
      "cell_type": "code",
      "execution_count": null,
      "metadata": {
        "colab": {
          "base_uri": "https://localhost:8080/",
          "height": 362
        },
        "id": "sZ1S-r8cX7Ua",
        "outputId": "3c4d6b38-cc4a-4d60-b181-c95c8333aab6"
      },
      "outputs": [
        {
          "output_type": "execute_result",
          "data": {
            "text/html": [
              "<div>\n",
              "<style scoped>\n",
              "    .dataframe tbody tr th:only-of-type {\n",
              "        vertical-align: middle;\n",
              "    }\n",
              "\n",
              "    .dataframe tbody tr th {\n",
              "        vertical-align: top;\n",
              "    }\n",
              "\n",
              "    .dataframe thead th {\n",
              "        text-align: right;\n",
              "    }\n",
              "</style>\n",
              "<table border=\"1\" class=\"dataframe\">\n",
              "  <thead>\n",
              "    <tr style=\"text-align: right;\">\n",
              "      <th></th>\n",
              "      <th>feature</th>\n",
              "      <th>importance</th>\n",
              "    </tr>\n",
              "  </thead>\n",
              "  <tbody>\n",
              "    <tr>\n",
              "      <th>34</th>\n",
              "      <td>discharge_disp_expired</td>\n",
              "      <td>0.091431</td>\n",
              "    </tr>\n",
              "    <tr>\n",
              "      <th>8</th>\n",
              "      <td>age</td>\n",
              "      <td>0.084874</td>\n",
              "    </tr>\n",
              "    <tr>\n",
              "      <th>6</th>\n",
              "      <td>num_medications</td>\n",
              "      <td>0.081213</td>\n",
              "    </tr>\n",
              "    <tr>\n",
              "      <th>7</th>\n",
              "      <td>number_diagnoses</td>\n",
              "      <td>0.063362</td>\n",
              "    </tr>\n",
              "    <tr>\n",
              "      <th>0</th>\n",
              "      <td>number_inpatient</td>\n",
              "      <td>0.063048</td>\n",
              "    </tr>\n",
              "    <tr>\n",
              "      <th>2</th>\n",
              "      <td>time_in_hospital</td>\n",
              "      <td>0.056256</td>\n",
              "    </tr>\n",
              "    <tr>\n",
              "      <th>5</th>\n",
              "      <td>num_lab_procedures</td>\n",
              "      <td>0.055299</td>\n",
              "    </tr>\n",
              "    <tr>\n",
              "      <th>36</th>\n",
              "      <td>discharge_disp_medfac</td>\n",
              "      <td>0.045702</td>\n",
              "    </tr>\n",
              "    <tr>\n",
              "      <th>4</th>\n",
              "      <td>num_procedures</td>\n",
              "      <td>0.042423</td>\n",
              "    </tr>\n",
              "    <tr>\n",
              "      <th>35</th>\n",
              "      <td>discharge_disp_hospice</td>\n",
              "      <td>0.039023</td>\n",
              "    </tr>\n",
              "  </tbody>\n",
              "</table>\n",
              "</div>"
            ],
            "text/plain": [
              "                   feature  importance\n",
              "34  discharge_disp_expired    0.091431\n",
              "8                      age    0.084874\n",
              "6          num_medications    0.081213\n",
              "7         number_diagnoses    0.063362\n",
              "0         number_inpatient    0.063048\n",
              "2         time_in_hospital    0.056256\n",
              "5       num_lab_procedures    0.055299\n",
              "36   discharge_disp_medfac    0.045702\n",
              "4           num_procedures    0.042423\n",
              "35  discharge_disp_hospice    0.039023"
            ]
          },
          "metadata": {},
          "execution_count": 103
        }
      ],
      "source": [
        "# Important features by gradient boosting\n",
        "gbt_model = cvModel_gbt.bestModel.stages[-1]\n",
        "feature_importance=pd.DataFrame(list(zip(['number_inpatient','number_outpatient','time_in_hospital','number_emergency','num_procedures','num_lab_procedures',\n",
        "                                          'num_medications','number_diagnoses','age','admn_source_phyref','admn_source_cliref','admn_source_hmoref','admn_source_hos',\n",
        "                                         'admn_source_snf','admn_source_hlthcare','admn_source_emergency', 'admn_source_court', 'admn_source_critical','admn_source_normdel',\n",
        "                                          'admn_source_birth', 'admn_source_surgery','rc_AfricanAmerican','rc_Asian','rc_Caucasian','rc_Hispanic','discharge_disp_home','discharge_disp_shortm_hos',\n",
        "                                          'discharge_disp_snf',\n",
        "                                          'discharge_disp_icf','discharge_disp_careInst','discharge_disp_hhs','discharge_disp_ama','discharge_disp_homeIvy','discharge_disp_admInp','discharge_disp_expired',\n",
        "                                          'discharge_disp_hospice','discharge_disp_medfac','discharge_disp_swingbed','discharge_disp_rehab','discharge_disp_long','discharge_disp_nursing','discharge_disp_federal',\n",
        "                                          'discharge_disp_psy','diag1_Circulatory','diag1_Respiratory','diag1_Digestive','diag1_Diabetes','diag1_Injury','diag1_Musculoskeletal','diag1_Genitourinary',\n",
        "                                          'diag1_Neoplasms','max_glu_200','max_glu_300','max_glu_norm','A1C_7','A1C_8','A1C_norm', 'insulin_No','insulin_Up',\n",
        "                                          'insulin_Steady','insulin_Down'], gbt_model.featureImportances.toArray())),\n",
        "columns = ['feature', 'importance']).sort_values('importance', ascending=False)\n",
        "feature_importance.head(10)\n"
      ]
    },
    {
      "cell_type": "markdown",
      "metadata": {
        "id": "P3jFsW3nYXT6"
      },
      "source": [
        "# Model Comparison based on Accuracy and False Negatives"
      ]
    },
    {
      "cell_type": "code",
      "execution_count": null,
      "metadata": {
        "colab": {
          "base_uri": "https://localhost:8080/",
          "height": 312
        },
        "id": "pEwZKifXYcHa",
        "outputId": "49d58017-5608-4431-be3b-0c08e9f9c73f"
      },
      "outputs": [
        {
          "output_type": "execute_result",
          "data": {
            "text/plain": [
              "Text(0.5, 1.0, 'Model Comparison based on Accuracy')"
            ]
          },
          "metadata": {},
          "execution_count": 104
        },
        {
          "output_type": "display_data",
          "data": {
            "image/png": "[encoded data removed]",
            "text/plain": [
              "<Figure size 432x288 with 1 Axes>"
            ]
          },
          "metadata": {
            "needs_background": "light"
          }
        }
      ],
      "source": [
        "# for health care domain, we compare our models based on False Negatives and accuracy.\n",
        "# In this project we consider the model with the least FN and highest accuracy is the best model.\n",
        "\n",
        "model_comparison_df = pd.DataFrame({'Model_name': ['Logistic Regression','Gradient Boosting'],\n",
        "                                   'Validation_Accuracy': [62.52,64.18],\n",
        "                                   'False_Negatives': [6521,5873]})\n",
        "\n",
        "plt.plot(model_comparison_df.Model_name,model_comparison_df.Validation_Accuracy,'-o')\n",
        "plt.xlabel('Model Name')\n",
        "plt.ylabel('Validation Accuracy')\n",
        "plt.title('Model Comparison based on Accuracy')"
      ]
    },
    {
      "cell_type": "code",
      "execution_count": null,
      "metadata": {
        "colab": {
          "base_uri": "https://localhost:8080/",
          "height": 312
        },
        "id": "kFzlsNluadMS",
        "outputId": "79fac29d-7904-44a3-ba90-1def6b0b8d02"
      },
      "outputs": [
        {
          "output_type": "execute_result",
          "data": {
            "text/plain": [
              "Text(0.5, 1.0, 'Model Comparison based on False Negatives')"
            ]
          },
          "metadata": {},
          "execution_count": 105
        },
        {
          "output_type": "display_data",
          "data": {
            "image/png": "[encoded data removed]",
            "text/plain": [
              "<Figure size 432x288 with 1 Axes>"
            ]
          },
          "metadata": {
            "needs_background": "light"
          }
        }
      ],
      "source": [
        "plt.plot(model_comparison_df.Model_name,model_comparison_df.False_Negatives,'-or')\n",
        "plt.xlabel('Model Name')\n",
        "plt.ylabel('False Negatives')\n",
        "plt.title('Model Comparison based on False Negatives')"
      ]
    },
    {
      "cell_type": "markdown",
      "metadata": {
        "id": "AiwyScSJaiI5"
      },
      "source": [
        "From the above graphs we can see that Gradient Boosting has the maximum accuracy on Validation set and least False Negatives."
      ]
    },
    {
      "cell_type": "code",
      "execution_count": null,
      "metadata": {
        "colab": {
          "base_uri": "https://localhost:8080/"
        },
        "id": "3mxYrdo4a046",
        "outputId": "a3cc2a19-7961-4e02-b270-227462e66738"
      },
      "outputs": [
        {
          "output_type": "execute_result",
          "data": {
            "text/plain": [
              "0.6468950071101982"
            ]
          },
          "metadata": {},
          "execution_count": 106
        }
      ],
      "source": [
        "#Testing Gradient Boosting on test dataset\n",
        "\n",
        "predictions_gbt_test = cvModel_gbt.transform(testing_df)\n",
        "predictions_gbt_test = predictions_gbt_test.withColumn('prediction',predictions_gbt_test.prediction)\n",
        "\n",
        "predictions_gbt_test = predictions_gbt_test.withColumn('label',predictions_gbt_test.readmitted)\n",
        "evaluator.evaluate(predictions_gbt_test)"
      ]
    },
    {
      "cell_type": "code",
      "execution_count": null,
      "metadata": {
        "colab": {
          "base_uri": "https://localhost:8080/"
        },
        "id": "m7hUCRlHb8pd",
        "outputId": "b7cc8ac5-4c14-4e2d-be33-ed9e4b153fde"
      },
      "outputs": [
        {
          "name": "stdout",
          "output_type": "stream",
          "text": [
            "True Positives: 791\n",
            "True Negatives: 3518\n",
            "False Positives: 572\n",
            "False Negatives: 1972\n",
            "recall 0.2862830256967065\n",
            "precision 0.5803374908290535\n"
          ]
        }
      ],
      "source": [
        "# Confusion matrix for GBT with testing dataset\n",
        "tp =predictions_gbt_test[(predictions_gbt_test.readmitted == 1) & (predictions_gbt_test.prediction == 1)].count()\n",
        "tn = predictions_gbt_test[(predictions_gbt_test.readmitted == 0) & (predictions_gbt_test.prediction == 0)].count()\n",
        "fp =predictions_gbt_test[(predictions_gbt_test.readmitted == 0) & (predictions_gbt_test.prediction == 1)].count()\n",
        "fn = predictions_gbt_test[(predictions_gbt_test.readmitted == 1) & (predictions_gbt_test.prediction == 0)].count()\n",
        "print (\"True Positives:\", tp)\n",
        "print (\"True Negatives:\", tn)\n",
        "print (\"False Positives:\", fp)\n",
        "print (\"False Negatives:\", fn)\n",
        "\n",
        "r = (tp)/(tp + fn)\n",
        "print (\"recall\", r)\n",
        "p = float(tp) / (tp + fp)\n",
        "print (\"precision\", p)"
      ]
    },
    {
      "cell_type": "code",
      "execution_count": null,
      "metadata": {
        "colab": {
          "base_uri": "https://localhost:8080/",
          "height": 292
        },
        "id": "JYjNsg5Rc5cq",
        "outputId": "e328f251-fdaa-4999-d45b-1505680e78f2"
      },
      "outputs": [
        {
          "data": {
            "image/png": "[encoded data removed]",
            "text/plain": [
              "<Figure size 432x288 with 2 Axes>"
            ]
          },
          "metadata": {},
          "output_type": "display_data"
        }
      ],
      "source": [
        "# Plotting the test set confusion matrix\n",
        "array = [[3518,572],\n",
        "     [791,1972]]\n",
        "df_cm = pd.DataFrame(array, range(2),\n",
        "                  range(2))\n",
        "#plt.figure(figsize = (10,7))\n",
        "sns.set(font_scale=1.2)#for label size\n",
        "sns.heatmap(df_cm, annot=True,annot_kws={\"size\": 16},cmap='YlGnBu',fmt='g')\n",
        "plt.xlabel('Predicted')\n",
        "plt.ylabel('Actual')\n",
        "plt.gca().invert_xaxis()\n",
        "plt.gca().invert_yaxis()"
      ]
    },
    {
      "cell_type": "code",
      "execution_count": null,
      "metadata": {
        "colab": {
          "base_uri": "https://localhost:8080/",
          "height": 306
        },
        "id": "YJRuZfOoe3Jf",
        "outputId": "47bccaa0-7ba2-4017-ecf3-5fea55c7c24d"
      },
      "outputs": [
        {
          "data": {
            "image/png": "[encoded data removed]",
            "text/plain": [
              "<Figure size 432x288 with 1 Axes>"
            ]
          },
          "metadata": {},
          "output_type": "display_data"
        }
      ],
      "source": [
        "# Plotting the test set ROC and AUC\n",
        "predictions_gbt_test_df = predictions_gbt_test.toPandas()\n",
        "predictions_test = predictions_gbt_test_df['prediction']\n",
        "outcome_test = predictions_gbt_test_df['label']\n",
        "fpr, tpr, thresholds = roc_curve(predictions_test, outcome_test)\n",
        "roc_auc = auc(fpr, tpr)\n",
        "\n",
        "plt.plot(fpr, tpr, color='darkturquoise', label='ROC curve (area = %0.2f)' % roc_auc)\n",
        "plt.plot([0, 1], [0, 1], color='black', linestyle='--')\n",
        "plt.xlim([0.0, 1.0])\n",
        "plt.ylim([0.0, 1.05])\n",
        "plt.xlabel('False Positive Rate')\n",
        "plt.ylabel('True Positive Rate')\n",
        "plt.title('Receiver operating characteristic')\n",
        "plt.legend(loc=\"lower right\")\n",
        "plt.grid(b=False)\n",
        "plt.show()"
      ]
    },
    {
      "cell_type": "markdown",
      "metadata": {
        "id": "7O9--YXWfP7V"
      },
      "source": [
        "# Conclusion\n",
        "\n",
        "Gradient Boosting performed the best in terms of accuracy and number of false negatives and also fits the testing data well!!"
      ]
    }
  ],
  "metadata": {
    "accelerator": "GPU",
    "colab": {
      "provenance": []
    },
    "kernelspec": {
      "display_name": "Python 3",
      "name": "python3"
    },
    "language_info": {
      "name": "python"
    }
  },
  "nbformat": 4,
  "nbformat_minor": 0
}